{
 "cells": [
  {
   "cell_type": "code",
   "execution_count": 1,
   "id": "7e31e6e1-439d-44c3-9691-fdb76a8cb82e",
   "metadata": {},
   "outputs": [],
   "source": [
    "# test the fitting: Logistic"
   ]
  },
  {
   "cell_type": "code",
   "execution_count": 2,
   "id": "987bbc26-3803-4e9c-beb9-4adb4add61ca",
   "metadata": {},
   "outputs": [],
   "source": [
    "import pickle\n",
    "import glob\n",
    "import pandas as pd\n",
    "import seaborn as sns\n",
    "import matplotlib.pyplot as plt\n",
    "import numpy as np\n",
    "from optimization_utils import param_vec_to_dict"
   ]
  },
  {
   "cell_type": "code",
   "execution_count": 3,
   "id": "3a025d02-b1d9-4292-ada9-66131f088994",
   "metadata": {},
   "outputs": [],
   "source": [
    "file_list = glob.glob('0820_Logit_20_20/outfiles/*data*.pkl')\n",
    "file_list = [i.replace(\"0820_Logit_20_20/outfiles/\",\"\") for i in file_list]\n",
    "file_list = [i.replace(\".pkl\",\"\") for i in file_list]\n",
    "file_list = [tuple(map(int,i.split(\"data\"))) for i in file_list]\n",
    "file_list.sort()\n",
    "# file_list"
   ]
  },
  {
   "cell_type": "code",
   "execution_count": 4,
   "id": "4a2ad683-cbf2-48b3-aecc-088f9b8aa387",
   "metadata": {},
   "outputs": [
    {
     "data": {
      "text/html": [
       "<div>\n",
       "<style scoped>\n",
       "    .dataframe tbody tr th:only-of-type {\n",
       "        vertical-align: middle;\n",
       "    }\n",
       "\n",
       "    .dataframe tbody tr th {\n",
       "        vertical-align: top;\n",
       "    }\n",
       "\n",
       "    .dataframe thead th {\n",
       "        text-align: right;\n",
       "    }\n",
       "</style>\n",
       "<table border=\"1\" class=\"dataframe\">\n",
       "  <thead>\n",
       "    <tr style=\"text-align: right;\">\n",
       "      <th></th>\n",
       "      <th>iter</th>\n",
       "      <th>particle</th>\n",
       "      <th>err</th>\n",
       "    </tr>\n",
       "  </thead>\n",
       "  <tbody>\n",
       "    <tr>\n",
       "      <th>0</th>\n",
       "      <td>1.0</td>\n",
       "      <td>0.0</td>\n",
       "      <td>204589.123580</td>\n",
       "    </tr>\n",
       "    <tr>\n",
       "      <th>1</th>\n",
       "      <td>1.0</td>\n",
       "      <td>1.0</td>\n",
       "      <td>203013.280449</td>\n",
       "    </tr>\n",
       "    <tr>\n",
       "      <th>2</th>\n",
       "      <td>1.0</td>\n",
       "      <td>2.0</td>\n",
       "      <td>205750.074132</td>\n",
       "    </tr>\n",
       "    <tr>\n",
       "      <th>3</th>\n",
       "      <td>1.0</td>\n",
       "      <td>3.0</td>\n",
       "      <td>206805.044119</td>\n",
       "    </tr>\n",
       "    <tr>\n",
       "      <th>4</th>\n",
       "      <td>1.0</td>\n",
       "      <td>4.0</td>\n",
       "      <td>206139.236342</td>\n",
       "    </tr>\n",
       "    <tr>\n",
       "      <th>...</th>\n",
       "      <td>...</td>\n",
       "      <td>...</td>\n",
       "      <td>...</td>\n",
       "    </tr>\n",
       "    <tr>\n",
       "      <th>395</th>\n",
       "      <td>20.0</td>\n",
       "      <td>15.0</td>\n",
       "      <td>180107.720209</td>\n",
       "    </tr>\n",
       "    <tr>\n",
       "      <th>396</th>\n",
       "      <td>20.0</td>\n",
       "      <td>16.0</td>\n",
       "      <td>180084.568410</td>\n",
       "    </tr>\n",
       "    <tr>\n",
       "      <th>397</th>\n",
       "      <td>20.0</td>\n",
       "      <td>17.0</td>\n",
       "      <td>180093.146066</td>\n",
       "    </tr>\n",
       "    <tr>\n",
       "      <th>398</th>\n",
       "      <td>20.0</td>\n",
       "      <td>18.0</td>\n",
       "      <td>180093.869977</td>\n",
       "    </tr>\n",
       "    <tr>\n",
       "      <th>399</th>\n",
       "      <td>20.0</td>\n",
       "      <td>19.0</td>\n",
       "      <td>180085.906391</td>\n",
       "    </tr>\n",
       "  </tbody>\n",
       "</table>\n",
       "<p>400 rows × 3 columns</p>\n",
       "</div>"
      ],
      "text/plain": [
       "     iter  particle            err\n",
       "0     1.0       0.0  204589.123580\n",
       "1     1.0       1.0  203013.280449\n",
       "2     1.0       2.0  205750.074132\n",
       "3     1.0       3.0  206805.044119\n",
       "4     1.0       4.0  206139.236342\n",
       "..    ...       ...            ...\n",
       "395  20.0      15.0  180107.720209\n",
       "396  20.0      16.0  180084.568410\n",
       "397  20.0      17.0  180093.146066\n",
       "398  20.0      18.0  180093.869977\n",
       "399  20.0      19.0  180085.906391\n",
       "\n",
       "[400 rows x 3 columns]"
      ]
     },
     "execution_count": 4,
     "metadata": {},
     "output_type": "execute_result"
    }
   ],
   "source": [
    "pso_df = pd.DataFrame(columns = ['iter','particle','err'])\n",
    "\n",
    "for iter, p in file_list:\n",
    "    path = \"0820_Logit_20_20/outfiles/\" + str(iter) + \"data\" + str(p) + \".pkl\" \n",
    "    with open(path, 'rb') as inp:\n",
    "        data = pickle.load(inp)\n",
    "    err = data['err']\n",
    "    pso_df = pso_df.append({\"iter\":iter,\"particle\":p,\"err\":err},ignore_index=True)\n",
    "    \n",
    "pso_df"
   ]
  },
  {
   "cell_type": "code",
   "execution_count": 38,
   "id": "198931de-2acc-4aef-9dfb-fab722a8eb3e",
   "metadata": {},
   "outputs": [
    {
     "data": {
      "image/png": "[encoded data removed]",
      "text/plain": [
       "<Figure size 432x288 with 1 Axes>"
      ]
     },
     "metadata": {
      "needs_background": "light"
     },
     "output_type": "display_data"
    }
   ],
   "source": [
    "sns.scatterplot(data=pso_df, x=\"iter\", y=\"err\", hue=\"particle\")\n",
    "plt.show()"
   ]
  },
  {
   "cell_type": "code",
   "execution_count": 39,
   "id": "4a3a55fe-b627-4585-ac1d-17481f9a2fed",
   "metadata": {},
   "outputs": [
    {
     "data": {
      "image/png": "[encoded data removed]",
      "text/plain": [
       "<Figure size 432x288 with 1 Axes>"
      ]
     },
     "metadata": {
      "needs_background": "light"
     },
     "output_type": "display_data"
    }
   ],
   "source": [
    "sns.scatterplot(data=pso_df, x=\"iter\", y=\"err\")\n",
    "plt.show()"
   ]
  },
  {
   "cell_type": "code",
   "execution_count": 5,
   "id": "bb9ddcf4-5f0a-4bd0-8dde-e994844e352b",
   "metadata": {},
   "outputs": [],
   "source": [
    "# with open(\"df_singular.pkl\", 'rb') as inp:\n",
    "#     df = pickle.load(inp)\n",
    "# df"
   ]
  },
  {
   "cell_type": "code",
   "execution_count": 44,
   "id": "aa766fe7-6b2d-4da2-b330-a209c0c756d0",
   "metadata": {},
   "outputs": [
    {
     "data": {
      "text/plain": [
       "{'beta_enc': 0.250365,\n",
       " 'beta_rec': 0.096211,\n",
       " 'beta_rec_post': 0.01,\n",
       " 'beta_distract': None,\n",
       " 'phi_s': 2,\n",
       " 'phi_d': 0.5,\n",
       " 's_cf': 0,\n",
       " 's_fc': 0.0,\n",
       " 'kappa': 0.5,\n",
       " 'eta': 0.5,\n",
       " 'omega': 8,\n",
       " 'alpha': 4,\n",
       " 'c_thresh': 0.940049,\n",
       " 'lamb': 0.5,\n",
       " 'rec_time_limit': 60000.0,\n",
       " 'dt': 10,\n",
       " 'nitems_in_accumulator': 50,\n",
       " 'max_recalls': 50,\n",
       " 'learn_while_retrieving': False,\n",
       " 'gamma_fc': 0.672802,\n",
       " 'gamma_cf': 0.5}"
      ]
     },
     "execution_count": 44,
     "metadata": {},
     "output_type": "execute_result"
    }
   ],
   "source": [
    "param_vec = np.loadtxt('/home1/beigejin/MyCMR2/Modeling/CMR2/fitting/outfiles/xoptb.txt')\n",
    "prams = param_vec_to_dict(param_vec)\n",
    "prams"
   ]
  },
  {
   "cell_type": "code",
   "execution_count": null,
   "id": "7b395413-3b26-429c-ab4b-73f1f874c3fa",
   "metadata": {},
   "outputs": [],
   "source": [
    "# plot the behavioral simulation result, maybe use functions"
   ]
  }
 ],
 "metadata": {
  "kernelspec": {
   "display_name": "jinbeige",
   "language": "python",
   "name": "jinbeige"
  },
  "language_info": {
   "codemirror_mode": {
    "name": "ipython",
    "version": 3
   },
   "file_extension": ".py",
   "mimetype": "text/x-python",
   "name": "python",
   "nbconvert_exporter": "python",
   "pygments_lexer": "ipython3",
   "version": "3.7.13"
  }
 },
 "nbformat": 4,
 "nbformat_minor": 5
}
