{
 "cells": [
  {
   "cell_type": "code",
   "execution_count": 2,
   "id": "fae5ebd5-1f23-4b8a-a1d9-b4e4e56b7df0",
   "metadata": {},
   "outputs": [],
   "source": [
    "import scipy.io\n",
    "import numpy as np\n",
    "\n",
    "mat = scipy.io.loadmat('../Data/wordpools/PEERS_LSA.mat',squeeze_me = True)\n",
    "lsa = mat['LSA']"
   ]
  },
  {
   "cell_type": "code",
   "execution_count": 3,
   "id": "00f16b6e-ffcf-4dd5-b209-dc7a7544b508",
   "metadata": {},
   "outputs": [],
   "source": [
    "np.save('../Data/simu4_smat.npy',lsa)"
   ]
  },
  {
   "cell_type": "code",
   "execution_count": null,
   "id": "00ce57f4-8d0f-4d0b-950b-52d498165a93",
   "metadata": {},
   "outputs": [],
   "source": []
  }
 ],
 "metadata": {
  "kernelspec": {
   "display_name": "jinbeige",
   "language": "python",
   "name": "jinbeige"
  },
  "language_info": {
   "codemirror_mode": {
    "name": "ipython",
    "version": 3
   },
   "file_extension": ".py",
   "mimetype": "text/x-python",
   "name": "python",
   "nbconvert_exporter": "python",
   "pygments_lexer": "ipython3",
   "version": "3.7.13"
  }
 },
 "nbformat": 4,
 "nbformat_minor": 5
}
