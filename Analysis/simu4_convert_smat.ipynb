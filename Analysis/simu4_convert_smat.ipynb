{
 "cells": [
  {
   "cell_type": "code",
   "execution_count": 1,
   "id": "fae5ebd5-1f23-4b8a-a1d9-b4e4e56b7df0",
   "metadata": {},
   "outputs": [],
   "source": [
    "import scipy.io\n",
    "import numpy as np\n",
    "import pickle\n",
    "\n",
    "mat = scipy.io.loadmat('../Data/wordpools/PEERS_LSA.mat',squeeze_me = True)\n",
    "lsa = mat['LSA']"
   ]
  },
  {
   "cell_type": "code",
   "execution_count": 2,
   "id": "9e3a7c45-06c5-45f4-bdbb-e9992786ed59",
   "metadata": {},
   "outputs": [
    {
     "data": {
      "text/html": [
       "<div>\n",
       "<style scoped>\n",
       "    .dataframe tbody tr th:only-of-type {\n",
       "        vertical-align: middle;\n",
       "    }\n",
       "\n",
       "    .dataframe tbody tr th {\n",
       "        vertical-align: top;\n",
       "    }\n",
       "\n",
       "    .dataframe thead th {\n",
       "        text-align: right;\n",
       "    }\n",
       "</style>\n",
       "<table border=\"1\" class=\"dataframe\">\n",
       "  <thead>\n",
       "    <tr style=\"text-align: right;\">\n",
       "      <th></th>\n",
       "      <th>item</th>\n",
       "      <th>itemno_old</th>\n",
       "      <th>itemno</th>\n",
       "      <th>freq</th>\n",
       "      <th>quantile</th>\n",
       "    </tr>\n",
       "  </thead>\n",
       "  <tbody>\n",
       "    <tr>\n",
       "      <th>0</th>\n",
       "      <td>ABDOMEN</td>\n",
       "      <td>1</td>\n",
       "      <td>1</td>\n",
       "      <td>110</td>\n",
       "      <td>2</td>\n",
       "    </tr>\n",
       "    <tr>\n",
       "      <th>1</th>\n",
       "      <td>ACROBAT</td>\n",
       "      <td>4</td>\n",
       "      <td>2</td>\n",
       "      <td>17</td>\n",
       "      <td>0</td>\n",
       "    </tr>\n",
       "    <tr>\n",
       "      <th>2</th>\n",
       "      <td>ADULT</td>\n",
       "      <td>8</td>\n",
       "      <td>3</td>\n",
       "      <td>906</td>\n",
       "      <td>8</td>\n",
       "    </tr>\n",
       "    <tr>\n",
       "      <th>3</th>\n",
       "      <td>ALLEY</td>\n",
       "      <td>15</td>\n",
       "      <td>4</td>\n",
       "      <td>165</td>\n",
       "      <td>3</td>\n",
       "    </tr>\n",
       "    <tr>\n",
       "      <th>4</th>\n",
       "      <td>ALLIGATOR</td>\n",
       "      <td>16</td>\n",
       "      <td>5</td>\n",
       "      <td>12</td>\n",
       "      <td>0</td>\n",
       "    </tr>\n",
       "    <tr>\n",
       "      <th>...</th>\n",
       "      <td>...</td>\n",
       "      <td>...</td>\n",
       "      <td>...</td>\n",
       "      <td>...</td>\n",
       "      <td>...</td>\n",
       "    </tr>\n",
       "    <tr>\n",
       "      <th>979</th>\n",
       "      <td>YOKE</td>\n",
       "      <td>1632</td>\n",
       "      <td>980</td>\n",
       "      <td>12</td>\n",
       "      <td>0</td>\n",
       "    </tr>\n",
       "    <tr>\n",
       "      <th>980</th>\n",
       "      <td>YOLK</td>\n",
       "      <td>1633</td>\n",
       "      <td>981</td>\n",
       "      <td>47</td>\n",
       "      <td>1</td>\n",
       "    </tr>\n",
       "    <tr>\n",
       "      <th>981</th>\n",
       "      <td>YOUTH</td>\n",
       "      <td>1634</td>\n",
       "      <td>982</td>\n",
       "      <td>1159</td>\n",
       "      <td>8</td>\n",
       "    </tr>\n",
       "    <tr>\n",
       "      <th>982</th>\n",
       "      <td>ZIPPER</td>\n",
       "      <td>1636</td>\n",
       "      <td>983</td>\n",
       "      <td>24</td>\n",
       "      <td>0</td>\n",
       "    </tr>\n",
       "    <tr>\n",
       "      <th>983</th>\n",
       "      <td>ZOO</td>\n",
       "      <td>1637</td>\n",
       "      <td>984</td>\n",
       "      <td>156</td>\n",
       "      <td>3</td>\n",
       "    </tr>\n",
       "  </tbody>\n",
       "</table>\n",
       "<p>984 rows × 5 columns</p>\n",
       "</div>"
      ],
      "text/plain": [
       "          item  itemno_old  itemno  freq  quantile\n",
       "0      ABDOMEN           1       1   110         2\n",
       "1      ACROBAT           4       2    17         0\n",
       "2        ADULT           8       3   906         8\n",
       "3        ALLEY          15       4   165         3\n",
       "4    ALLIGATOR          16       5    12         0\n",
       "..         ...         ...     ...   ...       ...\n",
       "979       YOKE        1632     980    12         0\n",
       "980       YOLK        1633     981    47         1\n",
       "981      YOUTH        1634     982  1159         8\n",
       "982     ZIPPER        1636     983    24         0\n",
       "983        ZOO        1637     984   156         3\n",
       "\n",
       "[984 rows x 5 columns]"
      ]
     },
     "execution_count": 2,
     "metadata": {},
     "output_type": "execute_result"
    }
   ],
   "source": [
    "with open('../Data/simu4_word_freq.pkl', 'rb') as inp:\n",
    "    df = pickle.load(inp)\n",
    "df"
   ]
  },
  {
   "cell_type": "code",
   "execution_count": 3,
   "id": "10c04a55-d072-448b-8026-012b8742040a",
   "metadata": {},
   "outputs": [
    {
     "data": {
      "text/plain": [
       "array([[1.      , 0.057245, 0.423196, ..., 0.053728, 0.030244, 0.106214],\n",
       "       [0.057245, 1.      , 0.109517, ..., 0.242832, 0.004653, 0.216701],\n",
       "       [0.423196, 0.109517, 1.      , ..., 0.340466, 0.040098, 0.077469],\n",
       "       ...,\n",
       "       [0.053728, 0.242832, 0.340466, ..., 1.      , 0.082559, 0.013761],\n",
       "       [0.030244, 0.004653, 0.040098, ..., 0.082559, 1.      , 0.077847],\n",
       "       [0.106214, 0.216701, 0.077469, ..., 0.013761, 0.077847, 1.      ]])"
      ]
     },
     "execution_count": 3,
     "metadata": {},
     "output_type": "execute_result"
    }
   ],
   "source": [
    "select_idx = df.itemno_old.to_numpy() - 1\n",
    "lsa_new = lsa[np.ix_(select_idx,select_idx)]\n",
    "lsa_new"
   ]
  },
  {
   "cell_type": "code",
   "execution_count": 4,
   "id": "c50d6932-1182-4793-93c1-24a073a61c9c",
   "metadata": {},
   "outputs": [],
   "source": [
    "np.save('../Data/simu4_smat.npy',lsa_new)"
   ]
  },
  {
   "cell_type": "code",
   "execution_count": null,
   "id": "00ce57f4-8d0f-4d0b-950b-52d498165a93",
   "metadata": {},
   "outputs": [],
   "source": []
  }
 ],
 "metadata": {
  "kernelspec": {
   "display_name": "jinbeige",
   "language": "python",
   "name": "jinbeige"
  },
  "language_info": {
   "codemirror_mode": {
    "name": "ipython",
    "version": 3
   },
   "file_extension": ".py",
   "mimetype": "text/x-python",
   "name": "python",
   "nbconvert_exporter": "python",
   "pygments_lexer": "ipython3",
   "version": "3.7.13"
  }
 },
 "nbformat": 4,
 "nbformat_minor": 5
}
