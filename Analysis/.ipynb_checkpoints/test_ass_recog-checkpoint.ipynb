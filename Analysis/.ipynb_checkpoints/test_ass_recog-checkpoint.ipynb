{
 "cells": [
  {
   "cell_type": "code",
   "execution_count": 1,
   "id": "4a7bd0b2-f44d-46c2-b30c-9fedc6a49a7b",
   "metadata": {},
   "outputs": [],
   "source": [
    "import scipy.io\n",
    "import numpy as np\n",
    "import CMR_IA as cmr\n",
    "import matplotlib.pyplot as plt\n",
    "import pickle\n",
    "from statistics import mean, stdev\n",
    "import pprint\n",
    "import import_ipynb\n",
    "import time\n",
    "import pandas as pd\n",
    "import seaborn as sns\n",
    "\n",
    "np.set_printoptions(edgeitems=20, linewidth=150,precision=4)"
   ]
  },
  {
   "cell_type": "code",
   "execution_count": 2,
   "id": "3275d891-e7b6-4718-afa5-34346ddff1e5",
   "metadata": {},
   "outputs": [],
   "source": [
    "# get wordfreq quantile\n",
    "with open('../Data/simu4_word_freq.pkl', 'rb') as inp:\n",
    "    df = pickle.load(inp)"
   ]
  },
  {
   "cell_type": "code",
   "execution_count": 3,
   "id": "ad38bebb-bc35-457e-8b21-e1817308651d",
   "metadata": {},
   "outputs": [],
   "source": [
    "with open(\"../Data/simu4_design.pkl\", 'rb') as inp:\n",
    "    df_study = pickle.load(inp)\n",
    "    df_test = pickle.load(inp)"
   ]
  },
  {
   "cell_type": "code",
   "execution_count": 4,
   "id": "18811991-fa0a-4be7-af12-20ebb43113fc",
   "metadata": {},
   "outputs": [],
   "source": [
    "s_mat = np.load('../Data/simu4_smat.npy')"
   ]
  },
  {
   "cell_type": "code",
   "execution_count": 5,
   "id": "c8645ec8-377b-4b14-aa6e-d74e2d941743",
   "metadata": {},
   "outputs": [
    {
     "data": {
      "text/plain": [
       "{'beta_enc': 0.4,\n",
       " 'beta_rec': 0.1,\n",
       " 'beta_rec_new': 0.5,\n",
       " 'beta_rec_post': 0.2,\n",
       " 'beta_distract': None,\n",
       " 'phi_s': 2,\n",
       " 'phi_d': 0.5,\n",
       " 's_cf': 0,\n",
       " 's_fc': 0,\n",
       " 'kappa': 0.5,\n",
       " 'eta': 0.5,\n",
       " 'omega': 8,\n",
       " 'alpha': 4,\n",
       " 'c_thresh': 0.18,\n",
       " 'c_thresh_ass': 0.18,\n",
       " 'lamb': 0.5,\n",
       " 'rec_time_limit': 60000.0,\n",
       " 'dt': 10,\n",
       " 'nitems_in_accumulator': 50,\n",
       " 'max_recalls': 50,\n",
       " 'learn_while_retrieving': False,\n",
       " 'a': 2800,\n",
       " 'b': 2.14,\n",
       " 'm': 0,\n",
       " 'n': 1,\n",
       " 'gamma_fc': 0.5,\n",
       " 'gamma_cf': 0.5}"
      ]
     },
     "execution_count": 5,
     "metadata": {},
     "output_type": "execute_result"
    }
   ],
   "source": [
    "params = cmr.make_default_params()\n",
    "params.update(\n",
    "    beta_enc = 0.4,\n",
    "    beta_rec = 0.1,\n",
    "    beta_rec_post = 0.2,\n",
    "    gamma_fc = 0.5,\n",
    "    s_fc = 0,\n",
    "    c_thresh = 0.18,\n",
    "    c_thresh_ass = 0.18,\n",
    "    a = 2800,\n",
    "    b = 2.14,\n",
    "    m = 0,\n",
    "    n = 1,\n",
    ")\n",
    "params"
   ]
  },
  {
   "cell_type": "code",
   "execution_count": 6,
   "id": "9bbfad7b-cd65-413b-b851-f7060f43fafc",
   "metadata": {},
   "outputs": [
    {
     "data": {
      "text/html": [
       "<div>\n",
       "<style scoped>\n",
       "    .dataframe tbody tr th:only-of-type {\n",
       "        vertical-align: middle;\n",
       "    }\n",
       "\n",
       "    .dataframe tbody tr th {\n",
       "        vertical-align: top;\n",
       "    }\n",
       "\n",
       "    .dataframe thead th {\n",
       "        text-align: right;\n",
       "    }\n",
       "</style>\n",
       "<table border=\"1\" class=\"dataframe\">\n",
       "  <thead>\n",
       "    <tr style=\"text-align: right;\">\n",
       "      <th></th>\n",
       "      <th>itemno1</th>\n",
       "      <th>itemno2</th>\n",
       "      <th>session</th>\n",
       "    </tr>\n",
       "  </thead>\n",
       "  <tbody>\n",
       "    <tr>\n",
       "      <th>0</th>\n",
       "      <td>316</td>\n",
       "      <td>1</td>\n",
       "      <td>0</td>\n",
       "    </tr>\n",
       "    <tr>\n",
       "      <th>1</th>\n",
       "      <td>477</td>\n",
       "      <td>2</td>\n",
       "      <td>0</td>\n",
       "    </tr>\n",
       "    <tr>\n",
       "      <th>2</th>\n",
       "      <td>433</td>\n",
       "      <td>3</td>\n",
       "      <td>0</td>\n",
       "    </tr>\n",
       "    <tr>\n",
       "      <th>3</th>\n",
       "      <td>87</td>\n",
       "      <td>4</td>\n",
       "      <td>0</td>\n",
       "    </tr>\n",
       "    <tr>\n",
       "      <th>4</th>\n",
       "      <td>84</td>\n",
       "      <td>5</td>\n",
       "      <td>0</td>\n",
       "    </tr>\n",
       "  </tbody>\n",
       "</table>\n",
       "</div>"
      ],
      "text/plain": [
       "   itemno1  itemno2  session\n",
       "0      316        1        0\n",
       "1      477        2        0\n",
       "2      433        3        0\n",
       "3       87        4        0\n",
       "4       84        5        0"
      ]
     },
     "execution_count": 6,
     "metadata": {},
     "output_type": "execute_result"
    }
   ],
   "source": [
    "df_study = df_study.iloc[0:5]\n",
    "df_study.columns = df_study.columns.str.replace('itemno', 'itemno1')\n",
    "df_study['itemno2'] = [1,2,3,4,5]\n",
    "df_study = df_study[['itemno1','itemno2', 'session']]\n",
    "df_study"
   ]
  },
  {
   "cell_type": "code",
   "execution_count": 7,
   "id": "459fd887-d535-488a-b6af-f1e003c80900",
   "metadata": {},
   "outputs": [
    {
     "data": {
      "text/html": [
       "<div>\n",
       "<style scoped>\n",
       "    .dataframe tbody tr th:only-of-type {\n",
       "        vertical-align: middle;\n",
       "    }\n",
       "\n",
       "    .dataframe tbody tr th {\n",
       "        vertical-align: top;\n",
       "    }\n",
       "\n",
       "    .dataframe thead th {\n",
       "        text-align: right;\n",
       "    }\n",
       "</style>\n",
       "<table border=\"1\" class=\"dataframe\">\n",
       "  <thead>\n",
       "    <tr style=\"text-align: right;\">\n",
       "      <th></th>\n",
       "      <th>itemno1</th>\n",
       "      <th>itemno2</th>\n",
       "      <th>session</th>\n",
       "    </tr>\n",
       "  </thead>\n",
       "  <tbody>\n",
       "    <tr>\n",
       "      <th>0</th>\n",
       "      <td>84</td>\n",
       "      <td>5</td>\n",
       "      <td>0</td>\n",
       "    </tr>\n",
       "    <tr>\n",
       "      <th>1</th>\n",
       "      <td>316</td>\n",
       "      <td>1</td>\n",
       "      <td>0</td>\n",
       "    </tr>\n",
       "    <tr>\n",
       "      <th>2</th>\n",
       "      <td>87</td>\n",
       "      <td>-1</td>\n",
       "      <td>0</td>\n",
       "    </tr>\n",
       "    <tr>\n",
       "      <th>3</th>\n",
       "      <td>433</td>\n",
       "      <td>4</td>\n",
       "      <td>0</td>\n",
       "    </tr>\n",
       "    <tr>\n",
       "      <th>4</th>\n",
       "      <td>477</td>\n",
       "      <td>2</td>\n",
       "      <td>0</td>\n",
       "    </tr>\n",
       "  </tbody>\n",
       "</table>\n",
       "</div>"
      ],
      "text/plain": [
       "   itemno1  itemno2  session\n",
       "0       84        5        0\n",
       "1      316        1        0\n",
       "2       87       -1        0\n",
       "3      433        4        0\n",
       "4      477        2        0"
      ]
     },
     "execution_count": 7,
     "metadata": {},
     "output_type": "execute_result"
    }
   ],
   "source": [
    "df_test = df_study.copy()\n",
    "df_test['itemno1'] = [84,316,87,433,477]\n",
    "df_test['itemno2'] = [5,1,-1,4,2]\n",
    "df_test"
   ]
  },
  {
   "cell_type": "code",
   "execution_count": 8,
   "id": "ee7c988e-132a-48ea-88a0-4aedee742df6",
   "metadata": {},
   "outputs": [
    {
     "data": {
      "text/html": [
       "<div>\n",
       "<style scoped>\n",
       "    .dataframe tbody tr th:only-of-type {\n",
       "        vertical-align: middle;\n",
       "    }\n",
       "\n",
       "    .dataframe tbody tr th {\n",
       "        vertical-align: top;\n",
       "    }\n",
       "\n",
       "    .dataframe thead th {\n",
       "        text-align: right;\n",
       "    }\n",
       "</style>\n",
       "<table border=\"1\" class=\"dataframe\">\n",
       "  <thead>\n",
       "    <tr style=\"text-align: right;\">\n",
       "      <th></th>\n",
       "      <th>session</th>\n",
       "      <th>itemno1</th>\n",
       "      <th>itemno2</th>\n",
       "      <th>s_resp</th>\n",
       "      <th>s_rt</th>\n",
       "      <th>csim</th>\n",
       "    </tr>\n",
       "  </thead>\n",
       "  <tbody>\n",
       "    <tr>\n",
       "      <th>0</th>\n",
       "      <td>0</td>\n",
       "      <td>84</td>\n",
       "      <td>5</td>\n",
       "      <td>NaN</td>\n",
       "      <td>NaN</td>\n",
       "      <td>NaN</td>\n",
       "    </tr>\n",
       "    <tr>\n",
       "      <th>1</th>\n",
       "      <td>0</td>\n",
       "      <td>316</td>\n",
       "      <td>1</td>\n",
       "      <td>NaN</td>\n",
       "      <td>NaN</td>\n",
       "      <td>NaN</td>\n",
       "    </tr>\n",
       "    <tr>\n",
       "      <th>2</th>\n",
       "      <td>0</td>\n",
       "      <td>87</td>\n",
       "      <td>-1</td>\n",
       "      <td>NaN</td>\n",
       "      <td>NaN</td>\n",
       "      <td>NaN</td>\n",
       "    </tr>\n",
       "    <tr>\n",
       "      <th>3</th>\n",
       "      <td>0</td>\n",
       "      <td>433</td>\n",
       "      <td>4</td>\n",
       "      <td>NaN</td>\n",
       "      <td>NaN</td>\n",
       "      <td>NaN</td>\n",
       "    </tr>\n",
       "    <tr>\n",
       "      <th>4</th>\n",
       "      <td>0</td>\n",
       "      <td>477</td>\n",
       "      <td>2</td>\n",
       "      <td>NaN</td>\n",
       "      <td>NaN</td>\n",
       "      <td>NaN</td>\n",
       "    </tr>\n",
       "  </tbody>\n",
       "</table>\n",
       "</div>"
      ],
      "text/plain": [
       "   session  itemno1  itemno2  s_resp  s_rt  csim\n",
       "0        0       84        5     NaN   NaN   NaN\n",
       "1        0      316        1     NaN   NaN   NaN\n",
       "2        0       87       -1     NaN   NaN   NaN\n",
       "3        0      433        4     NaN   NaN   NaN\n",
       "4        0      477        2     NaN   NaN   NaN"
      ]
     },
     "execution_count": 8,
     "metadata": {},
     "output_type": "execute_result"
    }
   ],
   "source": [
    "df_thin = df_test[['session','itemno1', 'itemno2']]\n",
    "df_thin = df_thin.assign(s_resp=np.nan, s_rt=np.nan, csim=np.nan)\n",
    "df_thin"
   ]
  },
  {
   "cell_type": "code",
   "execution_count": 9,
   "id": "e89f183d-f7a9-4e1f-98af-14c3a2ff7946",
   "metadata": {},
   "outputs": [
    {
     "data": {
      "text/plain": [
       "array([[[316,   1]],\n",
       "\n",
       "       [[477,   2]],\n",
       "\n",
       "       [[433,   3]],\n",
       "\n",
       "       [[ 87,   4]],\n",
       "\n",
       "       [[ 84,   5]]])"
      ]
     },
     "execution_count": 9,
     "metadata": {},
     "output_type": "execute_result"
    }
   ],
   "source": [
    "# extarct the session data\n",
    "sess = 0\n",
    "pres_mat = df_study.loc[df_study.session==sess,['itemno1','itemno2']].to_numpy()\n",
    "pres_mat = np.reshape(pres_mat,(len(pres_mat),1,2))\n",
    "pres_mat"
   ]
  },
  {
   "cell_type": "code",
   "execution_count": 10,
   "id": "ad42ce90-3ecd-4ea1-87dd-699eab2f4fe1",
   "metadata": {},
   "outputs": [
    {
     "data": {
      "text/plain": [
       "array([[ 84,   5],\n",
       "       [316,   1],\n",
       "       [ 87,  -1],\n",
       "       [433,   4],\n",
       "       [477,   2]])"
      ]
     },
     "execution_count": 10,
     "metadata": {},
     "output_type": "execute_result"
    }
   ],
   "source": [
    "cue_mat = df_thin.loc[df_thin.session==sess,['itemno1','itemno2']].to_numpy()\n",
    "cue_mat"
   ]
  },
  {
   "cell_type": "code",
   "execution_count": 11,
   "id": "b5f6ba6f-e382-414c-a0a3-6797b8800982",
   "metadata": {},
   "outputs": [],
   "source": [
    "sem_mat = s_mat"
   ]
  },
  {
   "cell_type": "code",
   "execution_count": 12,
   "id": "30c54ba2-b754-4161-b46e-ae3b22524649",
   "metadata": {},
   "outputs": [],
   "source": [
    "model = cmr.CMR2(params, pres_mat, sem_mat, source_mat=None,\n",
    "           rec_mat=None, ffr_mat=None, cue_mat=cue_mat, task='Recog', mode='Hockley')"
   ]
  },
  {
   "cell_type": "code",
   "execution_count": 13,
   "id": "79b77dbc-83ba-4aec-9fa7-2febfb5e0ebe",
   "metadata": {},
   "outputs": [
    {
     "data": {
      "text/plain": [
       "array([[[316,   1]],\n",
       "\n",
       "       [[477,   2]],\n",
       "\n",
       "       [[433,   3]],\n",
       "\n",
       "       [[ 87,   4]],\n",
       "\n",
       "       [[ 84,   5]]], dtype=int16)"
      ]
     },
     "execution_count": 13,
     "metadata": {},
     "output_type": "execute_result"
    }
   ],
   "source": [
    "model.pres_nos"
   ]
  },
  {
   "cell_type": "code",
   "execution_count": 14,
   "id": "8d96231b-06b2-450e-afdb-14d43cf9ef28",
   "metadata": {},
   "outputs": [
    {
     "data": {
      "text/plain": [
       "array([[ 84,   5],\n",
       "       [316,   1],\n",
       "       [ 87,  -1],\n",
       "       [433,   4],\n",
       "       [477,   2]], dtype=int16)"
      ]
     },
     "execution_count": 14,
     "metadata": {},
     "output_type": "execute_result"
    }
   ],
   "source": [
    "model.cues_nos"
   ]
  },
  {
   "cell_type": "code",
   "execution_count": 15,
   "id": "5f1b9dbe-744b-4c77-8e85-638e0178c898",
   "metadata": {},
   "outputs": [
    {
     "data": {
      "text/plain": [
       "array([  1,   2,   3,   4,   5,  84,  87, 316, 433, 477], dtype=int16)"
      ]
     },
     "execution_count": 15,
     "metadata": {},
     "output_type": "execute_result"
    }
   ],
   "source": [
    "model.all_nos_unique"
   ]
  },
  {
   "cell_type": "code",
   "execution_count": 16,
   "id": "2fa4c977-9a4c-4f3b-8294-98803cb715ec",
   "metadata": {},
   "outputs": [
    {
     "data": {
      "text/plain": [
       "array([[[7, 0]],\n",
       "\n",
       "       [[9, 1]],\n",
       "\n",
       "       [[8, 2]],\n",
       "\n",
       "       [[6, 3]],\n",
       "\n",
       "       [[5, 4]]])"
      ]
     },
     "execution_count": 16,
     "metadata": {},
     "output_type": "execute_result"
    }
   ],
   "source": [
    "model.pres_indexes"
   ]
  },
  {
   "cell_type": "code",
   "execution_count": 17,
   "id": "12fd03b3-36b5-46db-b88a-d2cf05da8c83",
   "metadata": {},
   "outputs": [
    {
     "data": {
      "text/plain": [
       "array([[ 5,  4],\n",
       "       [ 7,  0],\n",
       "       [ 6, -1],\n",
       "       [ 8,  3],\n",
       "       [ 9,  1]])"
      ]
     },
     "execution_count": 17,
     "metadata": {},
     "output_type": "execute_result"
    }
   ],
   "source": [
    "model.cues_indexes"
   ]
  },
  {
   "cell_type": "code",
   "execution_count": 18,
   "id": "cca730bf-f0b5-4ff5-8072-c8caeb9381b3",
   "metadata": {},
   "outputs": [
    {
     "data": {
      "text/plain": [
       "array([[ 0.    ,  0.0438,  0.0616,  0.2806,  0.2136,  0.1854,  0.193 ,  0.0356,  0.1036,  0.1859],\n",
       "       [ 0.0438,  0.    ,  0.1883,  0.0561,  0.1495,  0.1521,  0.0542,  0.1094,  0.2295,  0.1507],\n",
       "       [ 0.0616,  0.1883,  0.    ,  0.1312,  0.3007, -0.012 ,  0.133 ,  0.1012,  0.1817,  0.1084],\n",
       "       [ 0.2806,  0.0561,  0.1312,  0.    ,  0.2054,  0.1426,  0.1044,  0.1056,  0.0558,  0.0633],\n",
       "       [ 0.2136,  0.1495,  0.3007,  0.2054,  0.    ,  0.1587,  0.1946,  0.1423,  0.066 ,  0.4829],\n",
       "       [ 0.1854,  0.1521, -0.012 ,  0.1426,  0.1587,  0.    ,  0.2227, -0.013 ,  0.0264,  0.1561],\n",
       "       [ 0.193 ,  0.0542,  0.133 ,  0.1044,  0.1946,  0.2227,  0.    ,  0.0213,  0.0265,  0.1088],\n",
       "       [ 0.0356,  0.1094,  0.1012,  0.1056,  0.1423, -0.013 ,  0.0213,  0.    ,  0.0807,  0.0492],\n",
       "       [ 0.1036,  0.2295,  0.1817,  0.0558,  0.066 ,  0.0264,  0.0265,  0.0807,  0.    ,  0.0138],\n",
       "       [ 0.1859,  0.1507,  0.1084,  0.0633,  0.4829,  0.1561,  0.1088,  0.0492,  0.0138,  0.    ]], dtype=float32)"
      ]
     },
     "execution_count": 18,
     "metadata": {},
     "output_type": "execute_result"
    }
   ],
   "source": [
    "model.sem_mat"
   ]
  },
  {
   "cell_type": "code",
   "execution_count": 19,
   "id": "1079a12f-5dbe-4118-87c7-0ca1b0c39785",
   "metadata": {},
   "outputs": [
    {
     "data": {
      "text/plain": [
       "5"
      ]
     },
     "execution_count": 19,
     "metadata": {},
     "output_type": "execute_result"
    }
   ],
   "source": [
    "model.nlists"
   ]
  },
  {
   "cell_type": "code",
   "execution_count": 20,
   "id": "3b8385eb-f520-4c2b-98dc-a6d7c5c41337",
   "metadata": {},
   "outputs": [
    {
     "name": "stdout",
     "output_type": "stream",
     "text": [
      "pretrial\n",
      "[7 0]\n",
      "encoding\n",
      "recognition\n",
      "pretrial\n",
      "[9 1]\n",
      "encoding\n",
      "recognition\n",
      "pretrial\n",
      "[8 2]\n",
      "encoding\n",
      "recognition\n",
      "pretrial\n",
      "[6 3]\n",
      "encoding\n",
      "recognition\n",
      "pretrial\n",
      "[5 4]\n",
      "encoding\n",
      "recognition\n"
     ]
    }
   ],
   "source": [
    "model.run_hockley_recog_single_sess()\n",
    "\n",
    "# in model:\n",
    "# print(self.att_vec[self.all_nos_unique[item_idx]-1])\n",
    "# print(np.dot(self.c_old[:self.nitems_unique], self.f[:self.nitems_unique].T))"
   ]
  },
  {
   "cell_type": "code",
   "execution_count": 21,
   "id": "eb322f70-a250-43fe-9f79-f33f71482d41",
   "metadata": {},
   "outputs": [
    {
     "data": {
      "text/plain": [
       "array([[0.5   , 0.1379, 0.1535, 0.1371, 0.1262, 0.1262, 0.1371, 0.    , 0.1535, 0.1379, 0.    , 0.    , 0.    , 0.    , 0.    ],\n",
       "       [0.    , 0.5   , 0.133 , 0.1188, 0.1094, 0.1094, 0.1188, 0.    , 0.133 , 0.    , 0.    , 0.    , 0.    , 0.    , 0.    ],\n",
       "       [0.    , 0.    , 0.5   , 0.1379, 0.1192, 0.1192, 0.1379, 0.    , 0.    , 0.    , 0.    , 0.    , 0.    , 0.    , 0.    ],\n",
       "       [0.    , 0.    , 0.    , 0.5   , 0.1544, 0.1544, 0.    , 0.    , 0.    , 0.    , 0.    , 0.    , 0.    , 0.    , 0.    ],\n",
       "       [0.    , 0.0346, 0.0299, 0.0267, 0.5246, 0.0246, 0.0267, 0.    , 0.0299, 0.0346, 0.    , 0.    , 0.    , 0.    , 0.    ],\n",
       "       [0.    , 0.0346, 0.0299, 0.0267, 0.0246, 0.5246, 0.0267, 0.    , 0.0299, 0.0346, 0.    , 0.    , 0.    , 0.    , 0.    ],\n",
       "       [0.    , 0.    , 0.    , 0.049 , 0.1721, 0.1721, 0.549 , 0.    , 0.    , 0.    , 0.    , 0.    , 0.    , 0.    , 0.    ],\n",
       "       [0.    , 0.1379, 0.1535, 0.1371, 0.1262, 0.1262, 0.1371, 0.5   , 0.1535, 0.1379, 0.    , 0.    , 0.    , 0.    , 0.    ],\n",
       "       [0.    , 0.    , 0.    , 0.1379, 0.144 , 0.144 , 0.1379, 0.    , 0.5   , 0.    , 0.    , 0.    , 0.    , 0.    , 0.    ],\n",
       "       [0.    , 0.    , 0.133 , 0.1188, 0.1094, 0.1094, 0.1188, 0.    , 0.133 , 0.5   , 0.    , 0.    , 0.    , 0.    , 0.    ],\n",
       "       [0.    , 0.    , 0.    , 0.    , 0.    , 0.    , 0.    , 0.    , 0.    , 0.    , 0.5   , 0.    , 0.    , 0.    , 0.    ],\n",
       "       [0.    , 0.    , 0.    , 0.    , 0.    , 0.    , 0.    , 0.    , 0.    , 0.    , 0.    , 0.5   , 0.    , 0.    , 0.    ],\n",
       "       [0.    , 0.    , 0.    , 0.    , 0.    , 0.    , 0.    , 0.    , 0.    , 0.    , 0.    , 0.    , 0.5   , 0.    , 0.    ],\n",
       "       [0.    , 0.    , 0.    , 0.    , 0.    , 0.    , 0.    , 0.    , 0.    , 0.    , 0.    , 0.    , 0.    , 0.5   , 0.    ],\n",
       "       [0.    , 0.    , 0.    , 0.    , 0.    , 0.    , 0.    , 0.    , 0.    , 0.    , 0.    , 0.    , 0.    , 0.    , 0.5   ]], dtype=float32)"
      ]
     },
     "execution_count": 21,
     "metadata": {},
     "output_type": "execute_result"
    }
   ],
   "source": [
    "model.M_FC"
   ]
  },
  {
   "cell_type": "code",
   "execution_count": 22,
   "id": "2bed9f14-4202-4d8e-9223-2e5eb9f66ce7",
   "metadata": {},
   "outputs": [],
   "source": [
    "# model.att_vec"
   ]
  },
  {
   "cell_type": "code",
   "execution_count": 23,
   "id": "b44bbe5a-9de7-4305-bd75-754024ddc2fd",
   "metadata": {},
   "outputs": [
    {
     "data": {
      "text/plain": [
       "[0.0, 0.3573985993862152, 0.0, 0.6093145608901978, 0.4468690752983093]"
      ]
     },
     "execution_count": 23,
     "metadata": {},
     "output_type": "execute_result"
    }
   ],
   "source": [
    "model.recog_similarity"
   ]
  },
  {
   "cell_type": "code",
   "execution_count": 24,
   "id": "a0661c17-e57d-4c2b-8511-b9472d4d80e8",
   "metadata": {},
   "outputs": [
    {
     "data": {
      "text/html": [
       "<div>\n",
       "<style scoped>\n",
       "    .dataframe tbody tr th:only-of-type {\n",
       "        vertical-align: middle;\n",
       "    }\n",
       "\n",
       "    .dataframe tbody tr th {\n",
       "        vertical-align: top;\n",
       "    }\n",
       "\n",
       "    .dataframe thead th {\n",
       "        text-align: right;\n",
       "    }\n",
       "</style>\n",
       "<table border=\"1\" class=\"dataframe\">\n",
       "  <thead>\n",
       "    <tr style=\"text-align: right;\">\n",
       "      <th></th>\n",
       "      <th>session</th>\n",
       "      <th>itemno1</th>\n",
       "      <th>itemno2_x</th>\n",
       "      <th>s_resp</th>\n",
       "      <th>s_rt</th>\n",
       "      <th>csim</th>\n",
       "      <th>itemno2_y</th>\n",
       "    </tr>\n",
       "  </thead>\n",
       "  <tbody>\n",
       "    <tr>\n",
       "      <th>0</th>\n",
       "      <td>0</td>\n",
       "      <td>84</td>\n",
       "      <td>5</td>\n",
       "      <td>0.0</td>\n",
       "      <td>1904.880859</td>\n",
       "      <td>0.000000</td>\n",
       "      <td>5</td>\n",
       "    </tr>\n",
       "    <tr>\n",
       "      <th>1</th>\n",
       "      <td>0</td>\n",
       "      <td>316</td>\n",
       "      <td>1</td>\n",
       "      <td>1.0</td>\n",
       "      <td>1915.514648</td>\n",
       "      <td>0.357399</td>\n",
       "      <td>1</td>\n",
       "    </tr>\n",
       "    <tr>\n",
       "      <th>2</th>\n",
       "      <td>0</td>\n",
       "      <td>87</td>\n",
       "      <td>-1</td>\n",
       "      <td>0.0</td>\n",
       "      <td>1904.880859</td>\n",
       "      <td>0.000000</td>\n",
       "      <td>-1</td>\n",
       "    </tr>\n",
       "    <tr>\n",
       "      <th>3</th>\n",
       "      <td>0</td>\n",
       "      <td>433</td>\n",
       "      <td>4</td>\n",
       "      <td>1.0</td>\n",
       "      <td>1117.267822</td>\n",
       "      <td>0.609315</td>\n",
       "      <td>4</td>\n",
       "    </tr>\n",
       "    <tr>\n",
       "      <th>4</th>\n",
       "      <td>0</td>\n",
       "      <td>477</td>\n",
       "      <td>2</td>\n",
       "      <td>1.0</td>\n",
       "      <td>1581.730591</td>\n",
       "      <td>0.446869</td>\n",
       "      <td>2</td>\n",
       "    </tr>\n",
       "  </tbody>\n",
       "</table>\n",
       "</div>"
      ],
      "text/plain": [
       "   session  itemno1  itemno2_x  s_resp         s_rt      csim  itemno2_y\n",
       "0        0       84          5     0.0  1904.880859  0.000000          5\n",
       "1        0      316          1     1.0  1915.514648  0.357399          1\n",
       "2        0       87         -1     0.0  1904.880859  0.000000         -1\n",
       "3        0      433          4     1.0  1117.267822  0.609315          4\n",
       "4        0      477          2     1.0  1581.730591  0.446869          2"
      ]
     },
     "execution_count": 24,
     "metadata": {},
     "output_type": "execute_result"
    }
   ],
   "source": [
    "recs = model.rec_items\n",
    "rts = model.rec_times\n",
    "csims = model.recog_similarity\n",
    "result = np.column_stack((recs,rts,csims))\n",
    "df_thin.loc[df_thin.session==sess, ['s_resp','s_rt','csim']] = result\n",
    "df_simu = df_thin.merge(df_test,on=['session','itemno1'])\n",
    "df_simu"
   ]
  },
  {
   "cell_type": "code",
   "execution_count": null,
   "id": "1797b476-c453-4a15-aec6-de0b03299f00",
   "metadata": {},
   "outputs": [],
   "source": []
  }
 ],
 "metadata": {
  "kernelspec": {
   "display_name": "jinbeige",
   "language": "python",
   "name": "jinbeige"
  },
  "language_info": {
   "codemirror_mode": {
    "name": "ipython",
    "version": 3
   },
   "file_extension": ".py",
   "mimetype": "text/x-python",
   "name": "python",
   "nbconvert_exporter": "python",
   "pygments_lexer": "ipython3",
   "version": "3.7.13"
  }
 },
 "nbformat": 4,
 "nbformat_minor": 5
}
