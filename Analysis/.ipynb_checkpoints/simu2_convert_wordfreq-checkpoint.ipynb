{
 "cells": [
  {
   "cell_type": "code",
   "execution_count": null,
   "id": "543e784c-4d69-45e0-b33b-2787f41388b4",
   "metadata": {},
   "outputs": [],
   "source": [
    "import scipy.io\n",
    "import numpy as np\n",
    "import pandas as pd\n",
    "import pickle\n",
    "np.set_printoptions(threshold=np.inf)"
   ]
  },
  {
   "cell_type": "code",
   "execution_count": null,
   "id": "44d8c3da-2b0a-4f1a-beb8-73dc6c753ed9",
   "metadata": {},
   "outputs": [],
   "source": [
    "# select 984 words from 1638\n",
    "mat = scipy.io.loadmat('../Data/wordpools/concreteness_imageability_norms.mat',squeeze_me = True)\n",
    "c = mat['C']\n",
    "# print(c)\n",
    "selected_idx = np.where(c>0)[0]"
   ]
  },
  {
   "cell_type": "code",
   "execution_count": null,
   "id": "8fc954bb-a4e3-48b0-ab23-2539a3392a6d",
   "metadata": {},
   "outputs": [],
   "source": [
    "# 1638 words\n",
    "with open(\"../Data/wordpools/wasnorm_wordpool.txt\") as f:\n",
    "    items = f.readlines()\n",
    "items = [i.replace(\"\\n\",\"\") for i in items]"
   ]
  },
  {
   "cell_type": "code",
   "execution_count": null,
   "id": "c9e077e2-e599-4f04-914a-c5853e79b3b5",
   "metadata": {},
   "outputs": [],
   "source": [
    "# the 984 words\n",
    "selected_item = [items[i] for i in selected_idx]"
   ]
  },
  {
   "cell_type": "code",
   "execution_count": null,
   "id": "66e9791d-3eb7-4b2b-8d96-261e3467cbfb",
   "metadata": {},
   "outputs": [],
   "source": [
    "# the 984 itemno\n",
    "selected_itemno = [i+1 for i in selected_idx]"
   ]
  },
  {
   "cell_type": "code",
   "execution_count": null,
   "id": "f11907fa-fb39-45d9-8a6d-6757fa29b25c",
   "metadata": {},
   "outputs": [],
   "source": [
    "# frequency\n",
    "mat = scipy.io.loadmat('../Data/wordpools/Frequency_norms.mat',squeeze_me = True)\n",
    "frequency = mat['F']\n",
    "selected_freq =  [frequency[i] for i in selected_idx]"
   ]
  },
  {
   "cell_type": "code",
   "execution_count": null,
   "id": "eb32dc24-0a55-4cf9-b4ab-a900b0aa34af",
   "metadata": {},
   "outputs": [],
   "source": [
    "# the 984 word dataframe\n",
    "data = {'item':selected_item,'itemno':selected_itemno,'freq':selected_freq}\n",
    "df = pd.DataFrame(data = data)\n",
    "df"
   ]
  },
  {
   "cell_type": "code",
   "execution_count": null,
   "id": "27b931fd-075a-4c07-9455-4b09a73fc1ce",
   "metadata": {},
   "outputs": [],
   "source": [
    "# frequency quantile\n",
    "q = pd.qcut(df.freq, q = 10, labels = False)\n",
    "df['quantile'] = q\n",
    "df"
   ]
  },
  {
   "cell_type": "code",
   "execution_count": null,
   "id": "d7f08c3c-1a01-42d5-9589-eecfa4a48a3b",
   "metadata": {},
   "outputs": [],
   "source": [
    "# save\n",
    "with open('../Data/simu2_word_freq.pkl', 'wb') as outp:\n",
    "    pickle.dump(df, outp, pickle.HIGHEST_PROTOCOL)"
   ]
  },
  {
   "cell_type": "code",
   "execution_count": null,
   "id": "6a9b62d2-0a32-453e-83a2-620450b847d3",
   "metadata": {},
   "outputs": [],
   "source": []
  }
 ],
 "metadata": {
  "kernelspec": {
   "display_name": "jinbeige",
   "language": "python",
   "name": "jinbeige"
  },
  "language_info": {
   "codemirror_mode": {
    "name": "ipython",
    "version": 3
   },
   "file_extension": ".py",
   "mimetype": "text/x-python",
   "name": "python",
   "nbconvert_exporter": "python",
   "pygments_lexer": "ipython3",
   "version": "3.7.13"
  }
 },
 "nbformat": 4,
 "nbformat_minor": 5
}
