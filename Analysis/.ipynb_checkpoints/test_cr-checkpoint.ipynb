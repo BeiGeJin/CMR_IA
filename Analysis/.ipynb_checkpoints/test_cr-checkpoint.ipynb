{
 "cells": [
  {
   "cell_type": "code",
   "execution_count": 1,
   "id": "4a7bd0b2-f44d-46c2-b30c-9fedc6a49a7b",
   "metadata": {},
   "outputs": [],
   "source": [
    "import scipy.io\n",
    "import numpy as np\n",
    "import CMR_IA as cmr\n",
    "import matplotlib.pyplot as plt\n",
    "import pickle\n",
    "from statistics import mean, stdev\n",
    "import pprint\n",
    "import import_ipynb\n",
    "import time\n",
    "import pandas as pd\n",
    "import seaborn as sns\n",
    "\n",
    "np.set_printoptions(edgeitems=20, linewidth=150,precision=4)"
   ]
  },
  {
   "cell_type": "code",
   "execution_count": 2,
   "id": "ad38bebb-bc35-457e-8b21-e1817308651d",
   "metadata": {},
   "outputs": [],
   "source": [
    "with open(\"../Data/simu6_design.pkl\", 'rb') as inp:\n",
    "    df_study = pickle.load(inp)\n",
    "    df_test = pickle.load(inp)"
   ]
  },
  {
   "cell_type": "code",
   "execution_count": 3,
   "id": "18811991-fa0a-4be7-af12-20ebb43113fc",
   "metadata": {},
   "outputs": [],
   "source": [
    "s_mat = np.load('../Data/wordpools/ltp_FR_similarity_matrix.npy')"
   ]
  },
  {
   "cell_type": "code",
   "execution_count": 10,
   "id": "c8645ec8-377b-4b14-aa6e-d74e2d941743",
   "metadata": {},
   "outputs": [
    {
     "data": {
      "text/plain": [
       "{'beta_enc': 0.4,\n",
       " 'beta_rec': 0.4,\n",
       " 'beta_rec_new': 0.5,\n",
       " 'beta_rec_post': 0.2,\n",
       " 'beta_distract': None,\n",
       " 'phi_s': 2,\n",
       " 'phi_d': 0.5,\n",
       " 's_cf': 0,\n",
       " 's_fc': 0,\n",
       " 'kappa': 0.5,\n",
       " 'eta': 0.5,\n",
       " 'omega': 8,\n",
       " 'alpha': 4,\n",
       " 'c_thresh': 0.01,\n",
       " 'c_thresh_ass': 0.01,\n",
       " 'd_ass': 1,\n",
       " 'lamb': 0.5,\n",
       " 'rec_time_limit': 60000.0,\n",
       " 'dt': 10,\n",
       " 'nitems_in_accumulator': 50,\n",
       " 'max_recalls': 50,\n",
       " 'learn_while_retrieving': False,\n",
       " 'a': 2800,\n",
       " 'b': 2.14,\n",
       " 'm': 0,\n",
       " 'n': 1,\n",
       " 'gamma_fc': 0.5,\n",
       " 'gamma_cf': 0.5}"
      ]
     },
     "execution_count": 10,
     "metadata": {},
     "output_type": "execute_result"
    }
   ],
   "source": [
    "params = cmr.make_default_params()\n",
    "params.update(\n",
    "    beta_enc = 0.4,\n",
    "    beta_rec = 0.4,\n",
    "    beta_rec_post = 0.2,\n",
    "    gamma_fc = 0.5,\n",
    "    s_fc = 0,\n",
    "    c_thresh = 0.01,\n",
    "    c_thresh_ass = 0.01,\n",
    "    a = 2800,\n",
    "    b = 2.14,\n",
    "    m = 0,\n",
    "    n = 1,\n",
    ")\n",
    "params"
   ]
  },
  {
   "cell_type": "code",
   "execution_count": 11,
   "id": "9bbfad7b-cd65-413b-b851-f7060f43fafc",
   "metadata": {},
   "outputs": [
    {
     "data": {
      "text/html": [
       "<div>\n",
       "<style scoped>\n",
       "    .dataframe tbody tr th:only-of-type {\n",
       "        vertical-align: middle;\n",
       "    }\n",
       "\n",
       "    .dataframe tbody tr th {\n",
       "        vertical-align: top;\n",
       "    }\n",
       "\n",
       "    .dataframe thead th {\n",
       "        text-align: right;\n",
       "    }\n",
       "</style>\n",
       "<table border=\"1\" class=\"dataframe\">\n",
       "  <thead>\n",
       "    <tr style=\"text-align: right;\">\n",
       "      <th></th>\n",
       "      <th>study_itemno1</th>\n",
       "      <th>study_itemno2</th>\n",
       "      <th>study_item1</th>\n",
       "      <th>study_item2</th>\n",
       "      <th>session</th>\n",
       "    </tr>\n",
       "  </thead>\n",
       "  <tbody>\n",
       "    <tr>\n",
       "      <th>0</th>\n",
       "      <td>716</td>\n",
       "      <td>141</td>\n",
       "      <td>HOOP</td>\n",
       "      <td>BLUEJAY</td>\n",
       "      <td>0</td>\n",
       "    </tr>\n",
       "    <tr>\n",
       "      <th>1</th>\n",
       "      <td>1261</td>\n",
       "      <td>862</td>\n",
       "      <td>SEAGULL</td>\n",
       "      <td>MAN</td>\n",
       "      <td>0</td>\n",
       "    </tr>\n",
       "    <tr>\n",
       "      <th>2</th>\n",
       "      <td>1067</td>\n",
       "      <td>1402</td>\n",
       "      <td>PIKE</td>\n",
       "      <td>SUIT</td>\n",
       "      <td>0</td>\n",
       "    </tr>\n",
       "    <tr>\n",
       "      <th>3</th>\n",
       "      <td>146</td>\n",
       "      <td>707</td>\n",
       "      <td>BOLT</td>\n",
       "      <td>HIGHWAY</td>\n",
       "      <td>0</td>\n",
       "    </tr>\n",
       "    <tr>\n",
       "      <th>4</th>\n",
       "      <td>155</td>\n",
       "      <td>1140</td>\n",
       "      <td>BOULDER</td>\n",
       "      <td>PUDDLE</td>\n",
       "      <td>0</td>\n",
       "    </tr>\n",
       "    <tr>\n",
       "      <th>5</th>\n",
       "      <td>1599</td>\n",
       "      <td>330</td>\n",
       "      <td>WEED</td>\n",
       "      <td>CLOWN</td>\n",
       "      <td>0</td>\n",
       "    </tr>\n",
       "  </tbody>\n",
       "</table>\n",
       "</div>"
      ],
      "text/plain": [
       "   study_itemno1  study_itemno2 study_item1 study_item2  session\n",
       "0            716            141        HOOP     BLUEJAY        0\n",
       "1           1261            862     SEAGULL         MAN        0\n",
       "2           1067           1402        PIKE        SUIT        0\n",
       "3            146            707        BOLT     HIGHWAY        0\n",
       "4            155           1140     BOULDER      PUDDLE        0\n",
       "5           1599            330        WEED       CLOWN        0"
      ]
     },
     "execution_count": 11,
     "metadata": {},
     "output_type": "execute_result"
    }
   ],
   "source": [
    "df_study = df_study.loc[df_study.session == 0]\n",
    "df_study"
   ]
  },
  {
   "cell_type": "code",
   "execution_count": 12,
   "id": "459fd887-d535-488a-b6af-f1e003c80900",
   "metadata": {},
   "outputs": [
    {
     "data": {
      "text/html": [
       "<div>\n",
       "<style scoped>\n",
       "    .dataframe tbody tr th:only-of-type {\n",
       "        vertical-align: middle;\n",
       "    }\n",
       "\n",
       "    .dataframe tbody tr th {\n",
       "        vertical-align: top;\n",
       "    }\n",
       "\n",
       "    .dataframe thead th {\n",
       "        text-align: right;\n",
       "    }\n",
       "</style>\n",
       "<table border=\"1\" class=\"dataframe\">\n",
       "  <thead>\n",
       "    <tr style=\"text-align: right;\">\n",
       "      <th></th>\n",
       "      <th>test_itemno</th>\n",
       "      <th>test_item</th>\n",
       "      <th>correct_ans</th>\n",
       "      <th>lag</th>\n",
       "      <th>session</th>\n",
       "    </tr>\n",
       "  </thead>\n",
       "  <tbody>\n",
       "    <tr>\n",
       "      <th>0</th>\n",
       "      <td>716</td>\n",
       "      <td>HOOP</td>\n",
       "      <td>141</td>\n",
       "      <td>5</td>\n",
       "      <td>0</td>\n",
       "    </tr>\n",
       "  </tbody>\n",
       "</table>\n",
       "</div>"
      ],
      "text/plain": [
       "   test_itemno test_item  correct_ans  lag  session\n",
       "0          716      HOOP          141    5        0"
      ]
     },
     "execution_count": 12,
     "metadata": {},
     "output_type": "execute_result"
    }
   ],
   "source": [
    "df_test = df_test.loc[df_test.session == 0]\n",
    "df_test"
   ]
  },
  {
   "cell_type": "code",
   "execution_count": 13,
   "id": "ee7c988e-132a-48ea-88a0-4aedee742df6",
   "metadata": {},
   "outputs": [
    {
     "data": {
      "text/html": [
       "<div>\n",
       "<style scoped>\n",
       "    .dataframe tbody tr th:only-of-type {\n",
       "        vertical-align: middle;\n",
       "    }\n",
       "\n",
       "    .dataframe tbody tr th {\n",
       "        vertical-align: top;\n",
       "    }\n",
       "\n",
       "    .dataframe thead th {\n",
       "        text-align: right;\n",
       "    }\n",
       "</style>\n",
       "<table border=\"1\" class=\"dataframe\">\n",
       "  <thead>\n",
       "    <tr style=\"text-align: right;\">\n",
       "      <th></th>\n",
       "      <th>session</th>\n",
       "      <th>test_itemno</th>\n",
       "      <th>s_resp</th>\n",
       "      <th>s_rt</th>\n",
       "    </tr>\n",
       "  </thead>\n",
       "  <tbody>\n",
       "    <tr>\n",
       "      <th>0</th>\n",
       "      <td>0</td>\n",
       "      <td>716</td>\n",
       "      <td>NaN</td>\n",
       "      <td>NaN</td>\n",
       "    </tr>\n",
       "  </tbody>\n",
       "</table>\n",
       "</div>"
      ],
      "text/plain": [
       "   session  test_itemno  s_resp  s_rt\n",
       "0        0          716     NaN   NaN"
      ]
     },
     "execution_count": 13,
     "metadata": {},
     "output_type": "execute_result"
    }
   ],
   "source": [
    "df_thin = df_test[['session','test_itemno']]\n",
    "df_thin = df_thin.assign(s_resp=np.nan, s_rt=np.nan)\n",
    "df_thin"
   ]
  },
  {
   "cell_type": "code",
   "execution_count": 14,
   "id": "e89f183d-f7a9-4e1f-98af-14c3a2ff7946",
   "metadata": {},
   "outputs": [
    {
     "data": {
      "text/plain": [
       "array([[[ 716,  141],\n",
       "        [1261,  862],\n",
       "        [1067, 1402],\n",
       "        [ 146,  707],\n",
       "        [ 155, 1140],\n",
       "        [1599,  330]]])"
      ]
     },
     "execution_count": 14,
     "metadata": {},
     "output_type": "execute_result"
    }
   ],
   "source": [
    "# extarct the session data\n",
    "sess = 0\n",
    "pres_mat = df_study.loc[df_study.session==sess,['study_itemno1','study_itemno2']].to_numpy()\n",
    "pres_mat = np.reshape(pres_mat,(1,len(pres_mat),2))\n",
    "pres_mat"
   ]
  },
  {
   "cell_type": "code",
   "execution_count": 15,
   "id": "ad42ce90-3ecd-4ea1-87dd-699eab2f4fe1",
   "metadata": {},
   "outputs": [
    {
     "data": {
      "text/plain": [
       "array([716])"
      ]
     },
     "execution_count": 15,
     "metadata": {},
     "output_type": "execute_result"
    }
   ],
   "source": [
    "cue_mat = df_thin.loc[df_thin.session==sess,'test_itemno'].to_numpy()\n",
    "cue_mat"
   ]
  },
  {
   "cell_type": "code",
   "execution_count": 16,
   "id": "b5f6ba6f-e382-414c-a0a3-6797b8800982",
   "metadata": {},
   "outputs": [],
   "source": [
    "sem_mat = s_mat"
   ]
  },
  {
   "cell_type": "code",
   "execution_count": 40,
   "id": "30c54ba2-b754-4161-b46e-ae3b22524649",
   "metadata": {},
   "outputs": [],
   "source": [
    "model = cmr.CMR2(params, pres_mat, sem_mat, source_mat=None,\n",
    "           rec_mat=None, ffr_mat=None, cue_mat=cue_mat, task='CR', mode='Final')"
   ]
  },
  {
   "cell_type": "code",
   "execution_count": 41,
   "id": "79b77dbc-83ba-4aec-9fa7-2febfb5e0ebe",
   "metadata": {},
   "outputs": [
    {
     "data": {
      "text/plain": [
       "array([[[ 716,  141],\n",
       "        [1261,  862],\n",
       "        [1067, 1402],\n",
       "        [ 146,  707],\n",
       "        [ 155, 1140],\n",
       "        [1599,  330]]], dtype=int16)"
      ]
     },
     "execution_count": 41,
     "metadata": {},
     "output_type": "execute_result"
    }
   ],
   "source": [
    "model.pres_nos"
   ]
  },
  {
   "cell_type": "code",
   "execution_count": 42,
   "id": "8d96231b-06b2-450e-afdb-14d43cf9ef28",
   "metadata": {},
   "outputs": [
    {
     "data": {
      "text/plain": [
       "array([716], dtype=int16)"
      ]
     },
     "execution_count": 42,
     "metadata": {},
     "output_type": "execute_result"
    }
   ],
   "source": [
    "model.cues_nos"
   ]
  },
  {
   "cell_type": "code",
   "execution_count": 43,
   "id": "5f1b9dbe-744b-4c77-8e85-638e0178c898",
   "metadata": {},
   "outputs": [
    {
     "data": {
      "text/plain": [
       "array([ 141,  146,  155,  330,  707,  716,  862, 1067, 1140, 1261, 1402, 1599], dtype=int16)"
      ]
     },
     "execution_count": 43,
     "metadata": {},
     "output_type": "execute_result"
    }
   ],
   "source": [
    "model.all_nos_unique"
   ]
  },
  {
   "cell_type": "code",
   "execution_count": 44,
   "id": "2fa4c977-9a4c-4f3b-8294-98803cb715ec",
   "metadata": {},
   "outputs": [
    {
     "data": {
      "text/plain": [
       "array([[[ 5,  0],\n",
       "        [ 9,  6],\n",
       "        [ 7, 10],\n",
       "        [ 1,  4],\n",
       "        [ 2,  8],\n",
       "        [11,  3]]])"
      ]
     },
     "execution_count": 44,
     "metadata": {},
     "output_type": "execute_result"
    }
   ],
   "source": [
    "model.pres_indexes"
   ]
  },
  {
   "cell_type": "code",
   "execution_count": 45,
   "id": "12fd03b3-36b5-46db-b88a-d2cf05da8c83",
   "metadata": {},
   "outputs": [
    {
     "data": {
      "text/plain": [
       "array([5])"
      ]
     },
     "execution_count": 45,
     "metadata": {},
     "output_type": "execute_result"
    }
   ],
   "source": [
    "model.cues_indexes"
   ]
  },
  {
   "cell_type": "code",
   "execution_count": 46,
   "id": "1079a12f-5dbe-4118-87c7-0ca1b0c39785",
   "metadata": {},
   "outputs": [
    {
     "data": {
      "text/plain": [
       "1"
      ]
     },
     "execution_count": 46,
     "metadata": {},
     "output_type": "execute_result"
    }
   ],
   "source": [
    "model.nlists"
   ]
  },
  {
   "cell_type": "code",
   "execution_count": 47,
   "id": "3b8385eb-f520-4c2b-98dc-a6d7c5c41337",
   "metadata": {},
   "outputs": [
    {
     "name": "stdout",
     "output_type": "stream",
     "text": [
      "pretrial\n",
      "1\n",
      "encoding\n",
      "shift\n",
      "1\n",
      "recall\n",
      "recall 5 f_in:\n",
      " [0.5657 0.     0.     0.     0.     0.5657 0.     0.     0.     0.     0.     0.    ]\n",
      "[[0.0866]]\n"
     ]
    }
   ],
   "source": [
    "model.run_norm_cr_single_sess()\n",
    "\n",
    "# in model:\n",
    "# print(self.att_vec[self.all_nos_unique[item_idx]-1])\n",
    "# print(np.dot(self.c_old[:self.nitems_unique], self.f[:self.nitems_unique].T))"
   ]
  },
  {
   "cell_type": "code",
   "execution_count": 48,
   "id": "d72559dd-88fd-44d0-ac5c-4ca18c46ce38",
   "metadata": {},
   "outputs": [
    {
     "data": {
      "text/plain": [
       "[146]"
      ]
     },
     "execution_count": 48,
     "metadata": {},
     "output_type": "execute_result"
    }
   ],
   "source": [
    "model.rec_items"
   ]
  },
  {
   "cell_type": "code",
   "execution_count": 49,
   "id": "00e6785e-b5d6-4906-bac5-1c588eb209fa",
   "metadata": {},
   "outputs": [
    {
     "data": {
      "text/plain": [
       "[3100]"
      ]
     },
     "execution_count": 49,
     "metadata": {},
     "output_type": "execute_result"
    }
   ],
   "source": [
    "model.rec_times"
   ]
  },
  {
   "cell_type": "code",
   "execution_count": 50,
   "id": "a0661c17-e57d-4c2b-8511-b9472d4d80e8",
   "metadata": {},
   "outputs": [
    {
     "data": {
      "text/html": [
       "<div>\n",
       "<style scoped>\n",
       "    .dataframe tbody tr th:only-of-type {\n",
       "        vertical-align: middle;\n",
       "    }\n",
       "\n",
       "    .dataframe tbody tr th {\n",
       "        vertical-align: top;\n",
       "    }\n",
       "\n",
       "    .dataframe thead th {\n",
       "        text-align: right;\n",
       "    }\n",
       "</style>\n",
       "<table border=\"1\" class=\"dataframe\">\n",
       "  <thead>\n",
       "    <tr style=\"text-align: right;\">\n",
       "      <th></th>\n",
       "      <th>session</th>\n",
       "      <th>test_itemno</th>\n",
       "      <th>s_resp</th>\n",
       "      <th>s_rt</th>\n",
       "      <th>test_item</th>\n",
       "      <th>correct_ans</th>\n",
       "      <th>lag</th>\n",
       "    </tr>\n",
       "  </thead>\n",
       "  <tbody>\n",
       "    <tr>\n",
       "      <th>0</th>\n",
       "      <td>0</td>\n",
       "      <td>716</td>\n",
       "      <td>146.0</td>\n",
       "      <td>3100.0</td>\n",
       "      <td>HOOP</td>\n",
       "      <td>141</td>\n",
       "      <td>5</td>\n",
       "    </tr>\n",
       "  </tbody>\n",
       "</table>\n",
       "</div>"
      ],
      "text/plain": [
       "   session  test_itemno  s_resp    s_rt test_item  correct_ans  lag\n",
       "0        0          716   146.0  3100.0      HOOP          141    5"
      ]
     },
     "execution_count": 50,
     "metadata": {},
     "output_type": "execute_result"
    }
   ],
   "source": [
    "recs = model.rec_items\n",
    "rts = model.rec_times\n",
    "result = np.column_stack((recs,rts))\n",
    "df_thin.loc[df_thin.session==sess, ['s_resp','s_rt']] = result\n",
    "df_simu = df_thin.merge(df_test,on=['session','test_itemno'])\n",
    "df_simu"
   ]
  },
  {
   "cell_type": "code",
   "execution_count": null,
   "id": "1797b476-c453-4a15-aec6-de0b03299f00",
   "metadata": {},
   "outputs": [],
   "source": []
  }
 ],
 "metadata": {
  "kernelspec": {
   "display_name": "jinbeige",
   "language": "python",
   "name": "jinbeige"
  },
  "language_info": {
   "codemirror_mode": {
    "name": "ipython",
    "version": 3
   },
   "file_extension": ".py",
   "mimetype": "text/x-python",
   "name": "python",
   "nbconvert_exporter": "python",
   "pygments_lexer": "ipython3",
   "version": "3.7.13"
  }
 },
 "nbformat": 4,
 "nbformat_minor": 5
}
