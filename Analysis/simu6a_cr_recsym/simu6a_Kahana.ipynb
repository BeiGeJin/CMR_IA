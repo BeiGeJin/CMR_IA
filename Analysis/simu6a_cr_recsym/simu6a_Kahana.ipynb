{
 "cells": [
  {
   "cell_type": "code",
   "execution_count": 7,
   "metadata": {},
   "outputs": [],
   "source": [
    "import pandas as pd\n",
    "import seaborn as sns\n",
    "import matplotlib.pyplot as plt\n",
    "import numpy as np\n",
    "from matplotlib.lines import Line2D\n",
    "# sns.set_context(\"notebook\")\n",
    "plt.style.use(\"default\")"
   ]
  },
  {
   "cell_type": "code",
   "execution_count": 8,
   "metadata": {},
   "outputs": [
    {
     "data": {
      "text/html": [
       "<div>\n",
       "<style scoped>\n",
       "    .dataframe tbody tr th:only-of-type {\n",
       "        vertical-align: middle;\n",
       "    }\n",
       "\n",
       "    .dataframe tbody tr th {\n",
       "        vertical-align: top;\n",
       "    }\n",
       "\n",
       "    .dataframe thead tr th {\n",
       "        text-align: left;\n",
       "    }\n",
       "</style>\n",
       "<table border=\"1\" class=\"dataframe\">\n",
       "  <thead>\n",
       "    <tr>\n",
       "      <th></th>\n",
       "      <th>backward</th>\n",
       "      <th>Unnamed: 1_level_0</th>\n",
       "      <th>forward</th>\n",
       "      <th>Unnamed: 3_level_0</th>\n",
       "    </tr>\n",
       "    <tr>\n",
       "      <th></th>\n",
       "      <th>X</th>\n",
       "      <th>Y</th>\n",
       "      <th>X</th>\n",
       "      <th>Y</th>\n",
       "    </tr>\n",
       "  </thead>\n",
       "  <tbody>\n",
       "    <tr>\n",
       "      <th>0</th>\n",
       "      <td>0.011161</td>\n",
       "      <td>0.995442</td>\n",
       "      <td>0.011161</td>\n",
       "      <td>0.998860</td>\n",
       "    </tr>\n",
       "    <tr>\n",
       "      <th>1</th>\n",
       "      <td>2.020089</td>\n",
       "      <td>0.618234</td>\n",
       "      <td>2.020089</td>\n",
       "      <td>0.659259</td>\n",
       "    </tr>\n",
       "    <tr>\n",
       "      <th>2</th>\n",
       "      <td>4.017857</td>\n",
       "      <td>0.333333</td>\n",
       "      <td>4.006696</td>\n",
       "      <td>0.291168</td>\n",
       "    </tr>\n",
       "    <tr>\n",
       "      <th>3</th>\n",
       "      <td>6.004464</td>\n",
       "      <td>0.268376</td>\n",
       "      <td>6.004464</td>\n",
       "      <td>0.298006</td>\n",
       "    </tr>\n",
       "    <tr>\n",
       "      <th>4</th>\n",
       "      <td>8.013393</td>\n",
       "      <td>0.255840</td>\n",
       "      <td>8.013393</td>\n",
       "      <td>0.276353</td>\n",
       "    </tr>\n",
       "    <tr>\n",
       "      <th>5</th>\n",
       "      <td>10.000000</td>\n",
       "      <td>0.343590</td>\n",
       "      <td>10.000000</td>\n",
       "      <td>0.304843</td>\n",
       "    </tr>\n",
       "  </tbody>\n",
       "</table>\n",
       "</div>"
      ],
      "text/plain": [
       "    backward Unnamed: 1_level_0    forward Unnamed: 3_level_0\n",
       "           X                  Y          X                  Y\n",
       "0   0.011161           0.995442   0.011161           0.998860\n",
       "1   2.020089           0.618234   2.020089           0.659259\n",
       "2   4.017857           0.333333   4.006696           0.291168\n",
       "3   6.004464           0.268376   6.004464           0.298006\n",
       "4   8.013393           0.255840   8.013393           0.276353\n",
       "5  10.000000           0.343590  10.000000           0.304843"
      ]
     },
     "execution_count": 8,
     "metadata": {},
     "output_type": "execute_result"
    }
   ],
   "source": [
    "df = pd.read_csv(\"simu6a_data/simu6a_Kahana.csv\",header=[0,1])\n",
    "df"
   ]
  },
  {
   "cell_type": "code",
   "execution_count": 9,
   "metadata": {},
   "outputs": [
    {
     "data": {
      "text/html": [
       "<div>\n",
       "<style scoped>\n",
       "    .dataframe tbody tr th:only-of-type {\n",
       "        vertical-align: middle;\n",
       "    }\n",
       "\n",
       "    .dataframe tbody tr th {\n",
       "        vertical-align: top;\n",
       "    }\n",
       "\n",
       "    .dataframe thead th {\n",
       "        text-align: right;\n",
       "    }\n",
       "</style>\n",
       "<table border=\"1\" class=\"dataframe\">\n",
       "  <thead>\n",
       "    <tr style=\"text-align: right;\">\n",
       "      <th></th>\n",
       "      <th>Backward_X</th>\n",
       "      <th>Backward_Y</th>\n",
       "      <th>Forward_X</th>\n",
       "      <th>Forward_Y</th>\n",
       "    </tr>\n",
       "  </thead>\n",
       "  <tbody>\n",
       "    <tr>\n",
       "      <th>0</th>\n",
       "      <td>0</td>\n",
       "      <td>0.995442</td>\n",
       "      <td>0</td>\n",
       "      <td>0.998860</td>\n",
       "    </tr>\n",
       "    <tr>\n",
       "      <th>1</th>\n",
       "      <td>2</td>\n",
       "      <td>0.618234</td>\n",
       "      <td>2</td>\n",
       "      <td>0.659259</td>\n",
       "    </tr>\n",
       "    <tr>\n",
       "      <th>2</th>\n",
       "      <td>4</td>\n",
       "      <td>0.333333</td>\n",
       "      <td>4</td>\n",
       "      <td>0.291168</td>\n",
       "    </tr>\n",
       "    <tr>\n",
       "      <th>3</th>\n",
       "      <td>6</td>\n",
       "      <td>0.268376</td>\n",
       "      <td>6</td>\n",
       "      <td>0.298006</td>\n",
       "    </tr>\n",
       "    <tr>\n",
       "      <th>4</th>\n",
       "      <td>8</td>\n",
       "      <td>0.255840</td>\n",
       "      <td>8</td>\n",
       "      <td>0.276353</td>\n",
       "    </tr>\n",
       "    <tr>\n",
       "      <th>5</th>\n",
       "      <td>10</td>\n",
       "      <td>0.343590</td>\n",
       "      <td>10</td>\n",
       "      <td>0.304843</td>\n",
       "    </tr>\n",
       "  </tbody>\n",
       "</table>\n",
       "</div>"
      ],
      "text/plain": [
       "   Backward_X  Backward_Y  Forward_X  Forward_Y\n",
       "0           0    0.995442          0   0.998860\n",
       "1           2    0.618234          2   0.659259\n",
       "2           4    0.333333          4   0.291168\n",
       "3           6    0.268376          6   0.298006\n",
       "4           8    0.255840          8   0.276353\n",
       "5          10    0.343590         10   0.304843"
      ]
     },
     "execution_count": 9,
     "metadata": {},
     "output_type": "execute_result"
    }
   ],
   "source": [
    "df.columns = ['Backward_X','Backward_Y','Forward_X','Forward_Y']\n",
    "x_range = [0,2,4,6,8,10]\n",
    "df['Backward_X'] = x_range\n",
    "df['Forward_X'] = x_range\n",
    "df"
   ]
  },
  {
   "cell_type": "code",
   "execution_count": 10,
   "metadata": {},
   "outputs": [
    {
     "data": {
      "image/png": "[encoded data removed]",
      "text/plain": [
       "<Figure size 500x500 with 1 Axes>"
      ]
     },
     "metadata": {},
     "output_type": "display_data"
    }
   ],
   "source": [
    "fig, ax = plt.subplots(figsize=(5,5))\n",
    "sns.lineplot(data=df, x='Forward_X', y='Forward_Y', linewidth=2, marker='o', markersize = 7, label='Forward', linestyle='--')\n",
    "sns.lineplot(data=df, x='Backward_X', y='Backward_Y', linewidth=2, marker='o', markersize = 7, label='Backward', linestyle='--')\n",
    "ax.spines['left'].set_bounds(0, 1)\n",
    "ax.spines[['right', 'top']].set_visible(False)\n",
    "ax.tick_params(axis=\"y\",direction=\"in\")\n",
    "ax.tick_params(axis=\"x\",direction=\"in\")\n",
    "plt.ylim([0,1.05])\n",
    "plt.xlabel('Test Lag')\n",
    "plt.ylabel('Proposition Correct')\n",
    "legend_elements = [Line2D([0], [0], color = sns.color_palette()[0], lw=1, marker='o', markersize = 5, linestyle='--',label = 'Forward'),\n",
    "                   Line2D([0], [0], color = sns.color_palette()[1], lw=1, marker='o', markersize = 5, linestyle='--', label = 'Backward')]\n",
    "plt.legend(handles = legend_elements, title='Recall Direction')\n",
    "plt.savefig('simu6a_fig/simu6a_Kahana.pdf')\n",
    "plt.show()"
   ]
  },
  {
   "cell_type": "code",
   "execution_count": null,
   "metadata": {},
   "outputs": [],
   "source": []
  }
 ],
 "metadata": {
  "kernelspec": {
   "display_name": "jinbeige",
   "language": "python",
   "name": "python3"
  },
  "language_info": {
   "codemirror_mode": {
    "name": "ipython",
    "version": 3
   },
   "file_extension": ".py",
   "mimetype": "text/x-python",
   "name": "python",
   "nbconvert_exporter": "python",
   "pygments_lexer": "ipython3",
   "version": "3.9.17"
  },
  "orig_nbformat": 4
 },
 "nbformat": 4,
 "nbformat_minor": 2
}
