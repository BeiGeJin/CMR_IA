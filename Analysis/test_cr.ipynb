{
 "cells": [
  {
   "cell_type": "code",
   "execution_count": 1,
   "id": "4a7bd0b2-f44d-46c2-b30c-9fedc6a49a7b",
   "metadata": {},
   "outputs": [],
   "source": [
    "import scipy.io\n",
    "import numpy as np\n",
    "import CMR_IA as cmr\n",
    "import matplotlib.pyplot as plt\n",
    "import pickle\n",
    "from statistics import mean, stdev\n",
    "import pprint\n",
    "import import_ipynb\n",
    "import time\n",
    "import pandas as pd\n",
    "import seaborn as sns\n",
    "\n",
    "np.set_printoptions(edgeitems=20, linewidth=150,precision=4)"
   ]
  },
  {
   "cell_type": "code",
   "execution_count": 2,
   "id": "ad38bebb-bc35-457e-8b21-e1817308651d",
   "metadata": {},
   "outputs": [],
   "source": [
    "with open(\"../Data/simu6_design.pkl\", 'rb') as inp:\n",
    "    df_study = pickle.load(inp)\n",
    "    df_test = pickle.load(inp)"
   ]
  },
  {
   "cell_type": "code",
   "execution_count": 3,
   "id": "18811991-fa0a-4be7-af12-20ebb43113fc",
   "metadata": {},
   "outputs": [],
   "source": [
    "s_mat = np.load('../Data/wordpools/ltp_FR_similarity_matrix.npy')"
   ]
  },
  {
   "cell_type": "code",
   "execution_count": 28,
   "id": "c8645ec8-377b-4b14-aa6e-d74e2d941743",
   "metadata": {},
   "outputs": [
    {
     "data": {
      "text/plain": [
       "{'beta_enc': 0.5,\n",
       " 'beta_rec': 0.8,\n",
       " 'beta_rec_new': 0.5,\n",
       " 'beta_rec_post': 0.2,\n",
       " 'beta_distract': None,\n",
       " 'phi_s': 0,\n",
       " 'phi_d': 0,\n",
       " 's_cf': 0,\n",
       " 's_fc': 0,\n",
       " 'kappa': 0.05,\n",
       " 'eta': 0.01,\n",
       " 'omega': 8,\n",
       " 'alpha': 4,\n",
       " 'c_thresh': 0.01,\n",
       " 'c_thresh_ass': 0.01,\n",
       " 'd_ass': 1,\n",
       " 'lamb': 0.05,\n",
       " 'rec_time_limit': 60000.0,\n",
       " 'dt': 10,\n",
       " 'nitems_in_accumulator': 10,\n",
       " 'max_recalls': 50,\n",
       " 'learn_while_retrieving': False,\n",
       " 'a': 2800,\n",
       " 'b': 2.14,\n",
       " 'm': 0,\n",
       " 'n': 1,\n",
       " 'gamma_fc': 0.5,\n",
       " 'gamma_cf': 0.5}"
      ]
     },
     "execution_count": 28,
     "metadata": {},
     "output_type": "execute_result"
    }
   ],
   "source": [
    "params = cmr.make_default_params()\n",
    "params.update(\n",
    "    beta_enc = 0.5,\n",
    "    beta_rec = 0.8,\n",
    "    beta_rec_post = 0.2,\n",
    "    gamma_fc = 0.5,\n",
    "    s_fc = 0,\n",
    "    s_cf = 0,\n",
    "    phi_s = 0,\n",
    "    phi_d = 0,\n",
    "    c_thresh = 0.01,\n",
    "    c_thresh_ass = 0.01,\n",
    "    a = 2800,\n",
    "    b = 2.14,\n",
    "    m = 0,\n",
    "    n = 1,\n",
    "    kappa = 0.05,\n",
    "    lamb = 0.05,\n",
    "    eta = 0.01,\n",
    "    nitems_in_accumulator = 10\n",
    ")\n",
    "params"
   ]
  },
  {
   "cell_type": "code",
   "execution_count": 29,
   "id": "9bbfad7b-cd65-413b-b851-f7060f43fafc",
   "metadata": {},
   "outputs": [
    {
     "data": {
      "text/html": [
       "<div>\n",
       "<style scoped>\n",
       "    .dataframe tbody tr th:only-of-type {\n",
       "        vertical-align: middle;\n",
       "    }\n",
       "\n",
       "    .dataframe tbody tr th {\n",
       "        vertical-align: top;\n",
       "    }\n",
       "\n",
       "    .dataframe thead th {\n",
       "        text-align: right;\n",
       "    }\n",
       "</style>\n",
       "<table border=\"1\" class=\"dataframe\">\n",
       "  <thead>\n",
       "    <tr style=\"text-align: right;\">\n",
       "      <th></th>\n",
       "      <th>study_itemno1</th>\n",
       "      <th>study_itemno2</th>\n",
       "      <th>study_item1</th>\n",
       "      <th>study_item2</th>\n",
       "      <th>session</th>\n",
       "    </tr>\n",
       "  </thead>\n",
       "  <tbody>\n",
       "    <tr>\n",
       "      <th>0</th>\n",
       "      <td>1</td>\n",
       "      <td>2</td>\n",
       "      <td>HOOP</td>\n",
       "      <td>BLUEJAY</td>\n",
       "      <td>0</td>\n",
       "    </tr>\n",
       "    <tr>\n",
       "      <th>1</th>\n",
       "      <td>3</td>\n",
       "      <td>4</td>\n",
       "      <td>SEAGULL</td>\n",
       "      <td>MAN</td>\n",
       "      <td>0</td>\n",
       "    </tr>\n",
       "    <tr>\n",
       "      <th>2</th>\n",
       "      <td>5</td>\n",
       "      <td>6</td>\n",
       "      <td>PIKE</td>\n",
       "      <td>SUIT</td>\n",
       "      <td>0</td>\n",
       "    </tr>\n",
       "    <tr>\n",
       "      <th>3</th>\n",
       "      <td>7</td>\n",
       "      <td>8</td>\n",
       "      <td>BOLT</td>\n",
       "      <td>HIGHWAY</td>\n",
       "      <td>0</td>\n",
       "    </tr>\n",
       "    <tr>\n",
       "      <th>4</th>\n",
       "      <td>9</td>\n",
       "      <td>10</td>\n",
       "      <td>BOULDER</td>\n",
       "      <td>PUDDLE</td>\n",
       "      <td>0</td>\n",
       "    </tr>\n",
       "    <tr>\n",
       "      <th>5</th>\n",
       "      <td>11</td>\n",
       "      <td>12</td>\n",
       "      <td>WEED</td>\n",
       "      <td>CLOWN</td>\n",
       "      <td>0</td>\n",
       "    </tr>\n",
       "  </tbody>\n",
       "</table>\n",
       "</div>"
      ],
      "text/plain": [
       "   study_itemno1  study_itemno2 study_item1 study_item2  session\n",
       "0              1              2        HOOP     BLUEJAY        0\n",
       "1              3              4     SEAGULL         MAN        0\n",
       "2              5              6        PIKE        SUIT        0\n",
       "3              7              8        BOLT     HIGHWAY        0\n",
       "4              9             10     BOULDER      PUDDLE        0\n",
       "5             11             12        WEED       CLOWN        0"
      ]
     },
     "execution_count": 29,
     "metadata": {},
     "output_type": "execute_result"
    }
   ],
   "source": [
    "df_study = df_study.loc[df_study.session == 0]\n",
    "df_study['study_itemno1'] = [1,3,5,7,9,11]\n",
    "df_study['study_itemno2'] = [2,4,6,8,10,12]\n",
    "df_study"
   ]
  },
  {
   "cell_type": "code",
   "execution_count": 30,
   "id": "459fd887-d535-488a-b6af-f1e003c80900",
   "metadata": {},
   "outputs": [
    {
     "data": {
      "text/html": [
       "<div>\n",
       "<style scoped>\n",
       "    .dataframe tbody tr th:only-of-type {\n",
       "        vertical-align: middle;\n",
       "    }\n",
       "\n",
       "    .dataframe tbody tr th {\n",
       "        vertical-align: top;\n",
       "    }\n",
       "\n",
       "    .dataframe thead th {\n",
       "        text-align: right;\n",
       "    }\n",
       "</style>\n",
       "<table border=\"1\" class=\"dataframe\">\n",
       "  <thead>\n",
       "    <tr style=\"text-align: right;\">\n",
       "      <th></th>\n",
       "      <th>test_itemno</th>\n",
       "      <th>test_item</th>\n",
       "      <th>correct_ans</th>\n",
       "      <th>lag</th>\n",
       "      <th>session</th>\n",
       "    </tr>\n",
       "  </thead>\n",
       "  <tbody>\n",
       "    <tr>\n",
       "      <th>0</th>\n",
       "      <td>1</td>\n",
       "      <td>HOOP</td>\n",
       "      <td>2</td>\n",
       "      <td>5</td>\n",
       "      <td>0</td>\n",
       "    </tr>\n",
       "  </tbody>\n",
       "</table>\n",
       "</div>"
      ],
      "text/plain": [
       "   test_itemno test_item  correct_ans  lag  session\n",
       "0            1      HOOP            2    5        0"
      ]
     },
     "execution_count": 30,
     "metadata": {},
     "output_type": "execute_result"
    }
   ],
   "source": [
    "df_test = df_test.loc[df_test.session == 0]\n",
    "df_test['test_itemno'] = [1]\n",
    "df_test['correct_ans'] = [2]\n",
    "df_test"
   ]
  },
  {
   "cell_type": "code",
   "execution_count": 31,
   "id": "ee7c988e-132a-48ea-88a0-4aedee742df6",
   "metadata": {},
   "outputs": [
    {
     "data": {
      "text/html": [
       "<div>\n",
       "<style scoped>\n",
       "    .dataframe tbody tr th:only-of-type {\n",
       "        vertical-align: middle;\n",
       "    }\n",
       "\n",
       "    .dataframe tbody tr th {\n",
       "        vertical-align: top;\n",
       "    }\n",
       "\n",
       "    .dataframe thead th {\n",
       "        text-align: right;\n",
       "    }\n",
       "</style>\n",
       "<table border=\"1\" class=\"dataframe\">\n",
       "  <thead>\n",
       "    <tr style=\"text-align: right;\">\n",
       "      <th></th>\n",
       "      <th>session</th>\n",
       "      <th>test_itemno</th>\n",
       "      <th>s_resp</th>\n",
       "      <th>s_rt</th>\n",
       "    </tr>\n",
       "  </thead>\n",
       "  <tbody>\n",
       "    <tr>\n",
       "      <th>0</th>\n",
       "      <td>0</td>\n",
       "      <td>1</td>\n",
       "      <td>NaN</td>\n",
       "      <td>NaN</td>\n",
       "    </tr>\n",
       "  </tbody>\n",
       "</table>\n",
       "</div>"
      ],
      "text/plain": [
       "   session  test_itemno  s_resp  s_rt\n",
       "0        0            1     NaN   NaN"
      ]
     },
     "execution_count": 31,
     "metadata": {},
     "output_type": "execute_result"
    }
   ],
   "source": [
    "df_thin = df_test[['session','test_itemno']]\n",
    "df_thin = df_thin.assign(s_resp=np.nan, s_rt=np.nan)\n",
    "df_thin"
   ]
  },
  {
   "cell_type": "code",
   "execution_count": 32,
   "id": "e89f183d-f7a9-4e1f-98af-14c3a2ff7946",
   "metadata": {},
   "outputs": [
    {
     "data": {
      "text/plain": [
       "array([[[ 1,  2],\n",
       "        [ 3,  4],\n",
       "        [ 5,  6],\n",
       "        [ 7,  8],\n",
       "        [ 9, 10],\n",
       "        [11, 12]]])"
      ]
     },
     "execution_count": 32,
     "metadata": {},
     "output_type": "execute_result"
    }
   ],
   "source": [
    "# extarct the session data\n",
    "sess = 0\n",
    "pres_mat = df_study.loc[df_study.session==sess,['study_itemno1','study_itemno2']].to_numpy()\n",
    "pres_mat = np.reshape(pres_mat,(1,len(pres_mat),2))\n",
    "pres_mat"
   ]
  },
  {
   "cell_type": "code",
   "execution_count": 33,
   "id": "ad42ce90-3ecd-4ea1-87dd-699eab2f4fe1",
   "metadata": {},
   "outputs": [
    {
     "data": {
      "text/plain": [
       "array([1])"
      ]
     },
     "execution_count": 33,
     "metadata": {},
     "output_type": "execute_result"
    }
   ],
   "source": [
    "cue_mat = df_thin.loc[df_thin.session==sess,'test_itemno'].to_numpy()\n",
    "cue_mat"
   ]
  },
  {
   "cell_type": "code",
   "execution_count": 34,
   "id": "b5f6ba6f-e382-414c-a0a3-6797b8800982",
   "metadata": {},
   "outputs": [],
   "source": [
    "sem_mat = s_mat"
   ]
  },
  {
   "cell_type": "code",
   "execution_count": 35,
   "id": "30c54ba2-b754-4161-b46e-ae3b22524649",
   "metadata": {},
   "outputs": [],
   "source": [
    "model = cmr.CMR2(params, pres_mat, sem_mat, source_mat=None,\n",
    "           rec_mat=None, ffr_mat=None, cue_mat=cue_mat, task='CR', mode='Final')"
   ]
  },
  {
   "cell_type": "code",
   "execution_count": 36,
   "id": "6f0e45ca-c3b7-43eb-b56a-20c30f3bd0bf",
   "metadata": {},
   "outputs": [
    {
     "data": {
      "text/plain": [
       "array([[[ 1,  2],\n",
       "        [ 3,  4],\n",
       "        [ 5,  6],\n",
       "        [ 7,  8],\n",
       "        [ 9, 10],\n",
       "        [11, 12]]], dtype=int16)"
      ]
     },
     "execution_count": 36,
     "metadata": {},
     "output_type": "execute_result"
    }
   ],
   "source": [
    "model.pres_nos"
   ]
  },
  {
   "cell_type": "code",
   "execution_count": 37,
   "id": "8d96231b-06b2-450e-afdb-14d43cf9ef28",
   "metadata": {},
   "outputs": [
    {
     "data": {
      "text/plain": [
       "array([1], dtype=int16)"
      ]
     },
     "execution_count": 37,
     "metadata": {},
     "output_type": "execute_result"
    }
   ],
   "source": [
    "model.cues_nos"
   ]
  },
  {
   "cell_type": "code",
   "execution_count": 38,
   "id": "5f1b9dbe-744b-4c77-8e85-638e0178c898",
   "metadata": {},
   "outputs": [
    {
     "data": {
      "text/plain": [
       "array([ 1,  2,  3,  4,  5,  6,  7,  8,  9, 10, 11, 12], dtype=int16)"
      ]
     },
     "execution_count": 38,
     "metadata": {},
     "output_type": "execute_result"
    }
   ],
   "source": [
    "model.all_nos_unique"
   ]
  },
  {
   "cell_type": "code",
   "execution_count": 39,
   "id": "2fa4c977-9a4c-4f3b-8294-98803cb715ec",
   "metadata": {},
   "outputs": [
    {
     "data": {
      "text/plain": [
       "array([[[ 0,  1],\n",
       "        [ 2,  3],\n",
       "        [ 4,  5],\n",
       "        [ 6,  7],\n",
       "        [ 8,  9],\n",
       "        [10, 11]]])"
      ]
     },
     "execution_count": 39,
     "metadata": {},
     "output_type": "execute_result"
    }
   ],
   "source": [
    "model.pres_indexes"
   ]
  },
  {
   "cell_type": "code",
   "execution_count": 40,
   "id": "12fd03b3-36b5-46db-b88a-d2cf05da8c83",
   "metadata": {},
   "outputs": [
    {
     "data": {
      "text/plain": [
       "array([0])"
      ]
     },
     "execution_count": 40,
     "metadata": {},
     "output_type": "execute_result"
    }
   ],
   "source": [
    "model.cues_indexes"
   ]
  },
  {
   "cell_type": "code",
   "execution_count": 41,
   "id": "1079a12f-5dbe-4118-87c7-0ca1b0c39785",
   "metadata": {},
   "outputs": [
    {
     "data": {
      "text/plain": [
       "1"
      ]
     },
     "execution_count": 41,
     "metadata": {},
     "output_type": "execute_result"
    }
   ],
   "source": [
    "model.nlists"
   ]
  },
  {
   "cell_type": "code",
   "execution_count": 42,
   "id": "3b8385eb-f520-4c2b-98dc-a6d7c5c41337",
   "metadata": {},
   "outputs": [
    {
     "name": "stdout",
     "output_type": "stream",
     "text": [
      "before cue:\n",
      " [[0.1687]\n",
      " [0.1687]\n",
      " [0.1949]\n",
      " [0.1949]\n",
      " [0.225 ]\n",
      " [0.225 ]\n",
      " [0.2598]\n",
      " [0.2598]\n",
      " [0.3   ]\n",
      " [0.3   ]\n",
      " [0.3464]\n",
      " [0.3464]\n",
      " [0.4134]\n",
      " [0.2   ]]\n",
      "c_in\n",
      ": [[0.7071]\n",
      " [0.7071]\n",
      " [0.    ]\n",
      " [0.    ]\n",
      " [0.    ]\n",
      " [0.    ]\n",
      " [0.    ]\n",
      " [0.    ]\n",
      " [0.    ]\n",
      " [0.    ]\n",
      " [0.    ]\n",
      " [0.    ]\n",
      " [0.    ]\n",
      " [0.    ]]\n",
      "after cue\n",
      ": [[0.6397]\n",
      " [0.6397]\n",
      " [0.0855]\n",
      " [0.0855]\n",
      " [0.0987]\n",
      " [0.0987]\n",
      " [0.114 ]\n",
      " [0.114 ]\n",
      " [0.1316]\n",
      " [0.1316]\n",
      " [0.152 ]\n",
      " [0.152 ]\n",
      " [0.1813]\n",
      " [0.0877]]\n"
     ]
    }
   ],
   "source": [
    "model.run_norm_cr_single_sess()\n",
    "\n",
    "# in model:\n",
    "# print(self.att_vec[self.all_nos_unique[item_idx]-1])\n",
    "# print(np.dot(self.c_old[:self.nitems_unique], self.f[:self.nitems_unique].T))"
   ]
  },
  {
   "cell_type": "code",
   "execution_count": 43,
   "id": "a78d5fe6-07f3-40db-a603-767aca6139ef",
   "metadata": {},
   "outputs": [
    {
     "data": {
      "text/plain": [
       "[2]"
      ]
     },
     "execution_count": 43,
     "metadata": {},
     "output_type": "execute_result"
    }
   ],
   "source": [
    "model.rec_items"
   ]
  },
  {
   "cell_type": "code",
   "execution_count": 44,
   "id": "3d8f735e-a709-4645-96c0-73a94d8fd6d9",
   "metadata": {},
   "outputs": [
    {
     "data": {
      "text/plain": [
       "[2210]"
      ]
     },
     "execution_count": 44,
     "metadata": {},
     "output_type": "execute_result"
    }
   ],
   "source": [
    "model.rec_times"
   ]
  },
  {
   "cell_type": "code",
   "execution_count": 45,
   "id": "d438c435-5021-4a03-9021-095981a91583",
   "metadata": {},
   "outputs": [
    {
     "data": {
      "text/plain": [
       "array([0.6397, 0.6397, 0.3117, 0.3117, 0.3248, 0.3248, 0.3447, 0.3447, 0.3717, 0.3717, 0.4064, 0.4064], dtype=float32)"
      ]
     },
     "execution_count": 45,
     "metadata": {},
     "output_type": "execute_result"
    }
   ],
   "source": [
    "model.f_in"
   ]
  },
  {
   "cell_type": "code",
   "execution_count": 26,
   "id": "3553aa1e-5158-4e00-b4b0-c12996ec7c1b",
   "metadata": {},
   "outputs": [
    {
     "data": {
      "text/plain": [
       "array([[0.5   , 0.5   , 0.1768, 0.1768, 0.1531, 0.1531, 0.1326, 0.1326, 0.1148, 0.1148, 0.0994, 0.0994, 0.    , 0.    ],\n",
       "       [0.5   , 0.5   , 0.1768, 0.1768, 0.1531, 0.1531, 0.1326, 0.1326, 0.1148, 0.1148, 0.0994, 0.0994, 0.    , 0.    ],\n",
       "       [0.    , 0.    , 0.5   , 0.5   , 0.1768, 0.1768, 0.1531, 0.1531, 0.1326, 0.1326, 0.1148, 0.1148, 0.    , 0.    ],\n",
       "       [0.    , 0.    , 0.5   , 0.5   , 0.1768, 0.1768, 0.1531, 0.1531, 0.1326, 0.1326, 0.1148, 0.1148, 0.    , 0.    ],\n",
       "       [0.    , 0.    , 0.    , 0.    , 0.5   , 0.5   , 0.1768, 0.1768, 0.1531, 0.1531, 0.1326, 0.1326, 0.    , 0.    ],\n",
       "       [0.    , 0.    , 0.    , 0.    , 0.5   , 0.5   , 0.1768, 0.1768, 0.1531, 0.1531, 0.1326, 0.1326, 0.    , 0.    ],\n",
       "       [0.    , 0.    , 0.    , 0.    , 0.    , 0.    , 0.5   , 0.5   , 0.1768, 0.1768, 0.1531, 0.1531, 0.    , 0.    ],\n",
       "       [0.    , 0.    , 0.    , 0.    , 0.    , 0.    , 0.5   , 0.5   , 0.1768, 0.1768, 0.1531, 0.1531, 0.    , 0.    ],\n",
       "       [0.    , 0.    , 0.    , 0.    , 0.    , 0.    , 0.    , 0.    , 0.5   , 0.5   , 0.1768, 0.1768, 0.    , 0.    ],\n",
       "       [0.    , 0.    , 0.    , 0.    , 0.    , 0.    , 0.    , 0.    , 0.5   , 0.5   , 0.1768, 0.1768, 0.    , 0.    ],\n",
       "       [0.    , 0.    , 0.    , 0.    , 0.    , 0.    , 0.    , 0.    , 0.    , 0.    , 0.5   , 0.5   , 0.    , 0.    ],\n",
       "       [0.    , 0.    , 0.    , 0.    , 0.    , 0.    , 0.    , 0.    , 0.    , 0.    , 0.5   , 0.5   , 0.    , 0.    ],\n",
       "       [0.    , 0.    , 0.    , 0.    , 0.    , 0.    , 0.    , 0.    , 0.    , 0.    , 0.    , 0.    , 0.5   , 0.    ],\n",
       "       [0.    , 0.    , 0.    , 0.    , 0.    , 0.    , 0.    , 0.    , 0.    , 0.    , 0.    , 0.    , 0.    , 0.5   ]], dtype=float32)"
      ]
     },
     "execution_count": 46,
     "metadata": {},
     "output_type": "execute_result"
    }
   ],
   "source": [
    "model.M_FC"
   ]
  },
  {
   "cell_type": "code",
   "execution_count": 47,
   "id": "c7884324-bc1a-47cf-97f1-21884ba1e78e",
   "metadata": {},
   "outputs": [
    {
     "data": {
      "text/plain": [
       "array([[0.5   , 0.5   , 0.    , 0.    , 0.    , 0.    , 0.    , 0.    , 0.    , 0.    , 0.    , 0.    , 0.    , 0.    ],\n",
       "       [0.5   , 0.5   , 0.    , 0.    , 0.    , 0.    , 0.    , 0.    , 0.    , 0.    , 0.    , 0.    , 0.    , 0.    ],\n",
       "       [0.1768, 0.1768, 0.5   , 0.5   , 0.    , 0.    , 0.    , 0.    , 0.    , 0.    , 0.    , 0.    , 0.    , 0.    ],\n",
       "       [0.1768, 0.1768, 0.5   , 0.5   , 0.    , 0.    , 0.    , 0.    , 0.    , 0.    , 0.    , 0.    , 0.    , 0.    ],\n",
       "       [0.1531, 0.1531, 0.1768, 0.1768, 0.5   , 0.5   , 0.    , 0.    , 0.    , 0.    , 0.    , 0.    , 0.    , 0.    ],\n",
       "       [0.1531, 0.1531, 0.1768, 0.1768, 0.5   , 0.5   , 0.    , 0.    , 0.    , 0.    , 0.    , 0.    , 0.    , 0.    ],\n",
       "       [0.1326, 0.1326, 0.1531, 0.1531, 0.1768, 0.1768, 0.5   , 0.5   , 0.    , 0.    , 0.    , 0.    , 0.    , 0.    ],\n",
       "       [0.1326, 0.1326, 0.1531, 0.1531, 0.1768, 0.1768, 0.5   , 0.5   , 0.    , 0.    , 0.    , 0.    , 0.    , 0.    ],\n",
       "       [0.1148, 0.1148, 0.1326, 0.1326, 0.1531, 0.1531, 0.1768, 0.1768, 0.5   , 0.5   , 0.    , 0.    , 0.    , 0.    ],\n",
       "       [0.1148, 0.1148, 0.1326, 0.1326, 0.1531, 0.1531, 0.1768, 0.1768, 0.5   , 0.5   , 0.    , 0.    , 0.    , 0.    ],\n",
       "       [0.0994, 0.0994, 0.1148, 0.1148, 0.1326, 0.1326, 0.1531, 0.1531, 0.1768, 0.1768, 0.5   , 0.5   , 0.    , 0.    ],\n",
       "       [0.0994, 0.0994, 0.1148, 0.1148, 0.1326, 0.1326, 0.1531, 0.1531, 0.1768, 0.1768, 0.5   , 0.5   , 0.    , 0.    ],\n",
       "       [0.    , 0.    , 0.    , 0.    , 0.    , 0.    , 0.    , 0.    , 0.    , 0.    , 0.    , 0.    , 0.5   , 0.    ],\n",
       "       [0.    , 0.    , 0.    , 0.    , 0.    , 0.    , 0.    , 0.    , 0.    , 0.    , 0.    , 0.    , 0.    , 0.5   ]], dtype=float32)"
      ]
     },
     "execution_count": 47,
     "metadata": {},
     "output_type": "execute_result"
    }
   ],
   "source": [
    "model.M_CF"
   ]
  },
  {
   "cell_type": "code",
   "execution_count": 48,
   "id": "f1ec1a7b-0fa1-4732-b9ba-6f8d185b8bfc",
   "metadata": {},
   "outputs": [
    {
     "data": {
      "text/html": [
       "<div>\n",
       "<style scoped>\n",
       "    .dataframe tbody tr th:only-of-type {\n",
       "        vertical-align: middle;\n",
       "    }\n",
       "\n",
       "    .dataframe tbody tr th {\n",
       "        vertical-align: top;\n",
       "    }\n",
       "\n",
       "    .dataframe thead th {\n",
       "        text-align: right;\n",
       "    }\n",
       "</style>\n",
       "<table border=\"1\" class=\"dataframe\">\n",
       "  <thead>\n",
       "    <tr style=\"text-align: right;\">\n",
       "      <th></th>\n",
       "      <th>session</th>\n",
       "      <th>test_itemno</th>\n",
       "      <th>s_resp</th>\n",
       "      <th>s_rt</th>\n",
       "      <th>test_item</th>\n",
       "      <th>correct_ans</th>\n",
       "      <th>lag</th>\n",
       "    </tr>\n",
       "  </thead>\n",
       "  <tbody>\n",
       "    <tr>\n",
       "      <th>0</th>\n",
       "      <td>0</td>\n",
       "      <td>1</td>\n",
       "      <td>2.0</td>\n",
       "      <td>2210.0</td>\n",
       "      <td>HOOP</td>\n",
       "      <td>2</td>\n",
       "      <td>5</td>\n",
       "    </tr>\n",
       "  </tbody>\n",
       "</table>\n",
       "</div>"
      ],
      "text/plain": [
       "   session  test_itemno  s_resp    s_rt test_item  correct_ans  lag\n",
       "0        0            1     2.0  2210.0      HOOP            2    5"
      ]
     },
     "execution_count": 48,
     "metadata": {},
     "output_type": "execute_result"
    }
   ],
   "source": [
    "recs = model.rec_items\n",
    "rts = model.rec_times\n",
    "result = np.column_stack((recs,rts))\n",
    "df_thin.loc[df_thin.session==sess, ['s_resp','s_rt']] = result\n",
    "df_simu = df_thin.merge(df_test,on=['session','test_itemno'])\n",
    "df_simu"
   ]
  },
  {
   "cell_type": "code",
   "execution_count": 49,
   "id": "c3e534f4-38ed-4ddb-84fa-fa24ae5ba4a1",
   "metadata": {},
   "outputs": [
    {
     "data": {
      "text/plain": [
       "array([ 1,  2,  3,  4,  5,  6,  7,  8,  9, 10, 11, 12])"
      ]
     },
     "execution_count": 49,
     "metadata": {},
     "output_type": "execute_result"
    }
   ],
   "source": [
    "tmp1 = df_study.study_itemno1.to_numpy()\n",
    "tmp2 = df_study.study_itemno2.to_numpy()\n",
    "tmp = np.concatenate((tmp1, tmp2))\n",
    "tmp = np.sort(tmp)\n",
    "tmp"
   ]
  },
  {
   "cell_type": "code",
   "execution_count": 50,
   "id": "4d598889-40d5-4fa9-b210-cc3a096c0027",
   "metadata": {},
   "outputs": [],
   "source": [
    "testid = np.searchsorted(tmp, df_simu.test_itemno.item())\n",
    "corrid = np.searchsorted(tmp, df_simu.correct_ans.item())"
   ]
  },
  {
   "cell_type": "code",
   "execution_count": 51,
   "id": "4ec22040-a307-4778-92ed-61eba4b80deb",
   "metadata": {},
   "outputs": [
    {
     "data": {
      "text/html": [
       "<div>\n",
       "<style scoped>\n",
       "    .dataframe tbody tr th:only-of-type {\n",
       "        vertical-align: middle;\n",
       "    }\n",
       "\n",
       "    .dataframe tbody tr th {\n",
       "        vertical-align: top;\n",
       "    }\n",
       "\n",
       "    .dataframe thead th {\n",
       "        text-align: right;\n",
       "    }\n",
       "</style>\n",
       "<table border=\"1\" class=\"dataframe\">\n",
       "  <thead>\n",
       "    <tr style=\"text-align: right;\">\n",
       "      <th></th>\n",
       "      <th>session</th>\n",
       "      <th>test_itemno</th>\n",
       "      <th>s_resp</th>\n",
       "      <th>s_rt</th>\n",
       "      <th>test_item</th>\n",
       "      <th>correct_ans</th>\n",
       "      <th>lag</th>\n",
       "      <th>corr_fin</th>\n",
       "      <th>othe_fin</th>\n",
       "    </tr>\n",
       "  </thead>\n",
       "  <tbody>\n",
       "    <tr>\n",
       "      <th>0</th>\n",
       "      <td>0</td>\n",
       "      <td>1</td>\n",
       "      <td>2.0</td>\n",
       "      <td>2210.0</td>\n",
       "      <td>HOOP</td>\n",
       "      <td>2</td>\n",
       "      <td>5</td>\n",
       "      <td>0.63972</td>\n",
       "      <td>0.351864</td>\n",
       "    </tr>\n",
       "  </tbody>\n",
       "</table>\n",
       "</div>"
      ],
      "text/plain": [
       "   session  test_itemno  s_resp    s_rt test_item  correct_ans  lag  corr_fin  \\\n",
       "0        0            1     2.0  2210.0      HOOP            2    5   0.63972   \n",
       "\n",
       "   othe_fin  \n",
       "0  0.351864  "
      ]
     },
     "execution_count": 51,
     "metadata": {},
     "output_type": "execute_result"
    }
   ],
   "source": [
    "df_simu['corr_fin']= model.f_in[corrid]\n",
    "df_simu['othe_fin'] = np.mean(np.delete(model.f_in, [testid,corrid]))\n",
    "df_simu"
   ]
  },
  {
   "cell_type": "code",
   "execution_count": null,
   "id": "cac0d825-78bf-4594-92ad-3aed0ecd0414",
   "metadata": {},
   "outputs": [],
   "source": []
  }
 ],
 "metadata": {
  "kernelspec": {
   "display_name": "jinbeige",
   "language": "python",
   "name": "jinbeige"
  },
  "language_info": {
   "codemirror_mode": {
    "name": "ipython",
    "version": 3
   },
   "file_extension": ".py",
   "mimetype": "text/x-python",
   "name": "python",
   "nbconvert_exporter": "python",
   "pygments_lexer": "ipython3",
   "version": "3.7.13"
  }
 },
 "nbformat": 4,
 "nbformat_minor": 5
}
