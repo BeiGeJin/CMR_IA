{
 "cells": [
  {
   "cell_type": "code",
   "execution_count": null,
   "id": "3452078a-a02b-4cd2-8bf1-8d163834dce8",
   "metadata": {},
   "outputs": [],
   "source": [
    "import numpy as np\n",
    "import pickle\n",
    "import math\n",
    "from scipy.stats import sem\n",
    "import matplotlib.pyplot as plt\n",
    "import pandas as pd\n",
    "import time\n",
    "import pprint\n",
    "import seaborn as sns\n",
    "import statsmodels.formula.api as smf\n",
    "import CMR_IA as cmr\n",
    "sns.set_context('paper')\n",
    "pd.set_option('display.max_columns', None)"
   ]
  },
  {
   "cell_type": "code",
   "execution_count": null,
   "id": "20556bfd-d428-472c-855f-8cb731b051e2",
   "metadata": {},
   "outputs": [],
   "source": [
    "with open(\"../Data/simu2_design.pkl\", 'rb') as inp:\n",
    "    df_study = pickle.load(inp)\n",
    "    df_test = pickle.load(inp)"
   ]
  },
  {
   "cell_type": "code",
   "execution_count": null,
   "id": "85c8404c-7d44-4864-a8dd-11f117b47582",
   "metadata": {},
   "outputs": [],
   "source": [
    "df_study"
   ]
  },
  {
   "cell_type": "code",
   "execution_count": null,
   "id": "6b92e9bb-020d-4b75-8d43-03bf72d5b893",
   "metadata": {},
   "outputs": [],
   "source": [
    "df_test"
   ]
  },
  {
   "cell_type": "code",
   "execution_count": null,
   "id": "f073dc39-faea-42b7-95cc-71566c1f1248",
   "metadata": {},
   "outputs": [],
   "source": [
    "rng = np.random.default_rng(seed=42)\n",
    "n = np.max(df_test.itemno)\n",
    "s_mat = 0.1 * rng.random((n,n))\n",
    "s_mat = s_mat - np.diag(np.diag(s_mat)) + np.identity(n)\n",
    "s_mat"
   ]
  },
  {
   "cell_type": "code",
   "execution_count": null,
   "id": "3d44dfb2-2ca8-417d-954f-fc89454e07c9",
   "metadata": {},
   "outputs": [],
   "source": [
    "np.save(\"../Data/simu2_smat.npy\",s_mat)"
   ]
  }
 ],
 "metadata": {
  "kernelspec": {
   "display_name": "jinbeige",
   "language": "python",
   "name": "jinbeige"
  },
  "language_info": {
   "codemirror_mode": {
    "name": "ipython",
    "version": 3
   },
   "file_extension": ".py",
   "mimetype": "text/x-python",
   "name": "python",
   "nbconvert_exporter": "python",
   "pygments_lexer": "ipython3",
   "version": "3.7.13"
  }
 },
 "nbformat": 4,
 "nbformat_minor": 5
}
